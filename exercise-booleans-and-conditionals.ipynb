{
 "cells": [
  {
   "cell_type": "markdown",
   "id": "7a029732",
   "metadata": {
    "papermill": {
     "duration": 0.009385,
     "end_time": "2024-10-20T22:02:20.642776",
     "exception": false,
     "start_time": "2024-10-20T22:02:20.633391",
     "status": "completed"
    },
    "tags": []
   },
   "source": [
    "**This notebook is an exercise in the [Python](https://www.kaggle.com/learn/python) course.  You can reference the tutorial at [this link](https://www.kaggle.com/colinmorris/booleans-and-conditionals).**\n",
    "\n",
    "---\n"
   ]
  },
  {
   "cell_type": "markdown",
   "id": "5249b46c",
   "metadata": {
    "papermill": {
     "duration": 0.007876,
     "end_time": "2024-10-20T22:02:20.659297",
     "exception": false,
     "start_time": "2024-10-20T22:02:20.651421",
     "status": "completed"
    },
    "tags": []
   },
   "source": [
    "In this exercise, you'll put to work what you have learned about booleans and conditionals.\n",
    "\n",
    "To get started, **run the setup code below** before writing your own code (and if you leave this notebook and come back later, don't forget to run the setup code again)."
   ]
  },
  {
   "cell_type": "code",
   "execution_count": 1,
   "id": "8d4b55f3",
   "metadata": {
    "execution": {
     "iopub.execute_input": "2024-10-20T22:02:20.677084Z",
     "iopub.status.busy": "2024-10-20T22:02:20.676671Z",
     "iopub.status.idle": "2024-10-20T22:02:21.448191Z",
     "shell.execute_reply": "2024-10-20T22:02:21.447074Z"
    },
    "papermill": {
     "duration": 0.78358,
     "end_time": "2024-10-20T22:02:21.450980",
     "exception": false,
     "start_time": "2024-10-20T22:02:20.667400",
     "status": "completed"
    },
    "tags": []
   },
   "outputs": [
    {
     "name": "stdout",
     "output_type": "stream",
     "text": [
      "Setup complete.\n"
     ]
    }
   ],
   "source": [
    "from learntools.core import binder; binder.bind(globals())\n",
    "from learntools.python.ex3 import *\n",
    "print('Setup complete.')"
   ]
  },
  {
   "cell_type": "markdown",
   "id": "9a8d5a03",
   "metadata": {
    "papermill": {
     "duration": 0.008206,
     "end_time": "2024-10-20T22:02:21.468906",
     "exception": false,
     "start_time": "2024-10-20T22:02:21.460700",
     "status": "completed"
    },
    "tags": []
   },
   "source": [
    "# 1.\n",
    "\n",
    "Many programming languages have [`sign`](https://en.wikipedia.org/wiki/Sign_function) available as a built-in function. Python doesn't, but we can define our own!\n",
    "\n",
    "In the cell below, define a function called `sign` which takes a numerical argument and returns -1 if it's negative, 1 if it's positive, and 0 if it's 0."
   ]
  },
  {
   "cell_type": "code",
   "execution_count": 2,
   "id": "c26fc8f9",
   "metadata": {
    "execution": {
     "iopub.execute_input": "2024-10-20T22:02:21.487733Z",
     "iopub.status.busy": "2024-10-20T22:02:21.486858Z",
     "iopub.status.idle": "2024-10-20T22:02:21.497456Z",
     "shell.execute_reply": "2024-10-20T22:02:21.496471Z"
    },
    "papermill": {
     "duration": 0.022192,
     "end_time": "2024-10-20T22:02:21.499558",
     "exception": false,
     "start_time": "2024-10-20T22:02:21.477366",
     "status": "completed"
    },
    "tags": []
   },
   "outputs": [
    {
     "data": {
      "application/javascript": [
       "parent.postMessage({\"jupyterEvent\": \"custom.exercise_interaction\", \"data\": {\"outcomeType\": 1, \"valueTowardsCompletion\": 0.2, \"interactionType\": 1, \"questionType\": 2, \"questionId\": \"1_SignFunctionProblem\", \"learnToolsVersion\": \"0.3.4\", \"failureMessage\": \"\", \"exceptionClass\": \"\", \"trace\": \"\"}}, \"*\")"
      ],
      "text/plain": [
       "<IPython.core.display.Javascript object>"
      ]
     },
     "metadata": {},
     "output_type": "display_data"
    },
    {
     "data": {
      "text/markdown": [
       "<span style=\"color:#33cc33\">Correct</span>"
      ],
      "text/plain": [
       "Correct"
      ]
     },
     "metadata": {},
     "output_type": "display_data"
    }
   ],
   "source": [
    "# Your code goes here. Define a function called 'sign'\n",
    "def sign(x):\n",
    "    if x > 0:\n",
    "        return 1\n",
    "    elif x == 0:\n",
    "        return 0\n",
    "    else:\n",
    "        return -1\n",
    "\n",
    "# Check your answer\n",
    "q1.check()"
   ]
  },
  {
   "cell_type": "code",
   "execution_count": 3,
   "id": "9bd29f38",
   "metadata": {
    "execution": {
     "iopub.execute_input": "2024-10-20T22:02:21.519051Z",
     "iopub.status.busy": "2024-10-20T22:02:21.518280Z",
     "iopub.status.idle": "2024-10-20T22:02:21.522799Z",
     "shell.execute_reply": "2024-10-20T22:02:21.521841Z"
    },
    "papermill": {
     "duration": 0.016523,
     "end_time": "2024-10-20T22:02:21.524836",
     "exception": false,
     "start_time": "2024-10-20T22:02:21.508313",
     "status": "completed"
    },
    "tags": []
   },
   "outputs": [],
   "source": [
    "#q1.solution()"
   ]
  },
  {
   "cell_type": "markdown",
   "id": "05c09e5d",
   "metadata": {
    "papermill": {
     "duration": 0.008636,
     "end_time": "2024-10-20T22:02:21.543038",
     "exception": false,
     "start_time": "2024-10-20T22:02:21.534402",
     "status": "completed"
    },
    "tags": []
   },
   "source": [
    "# 2.\n",
    "\n",
    "We've decided to add \"logging\" to our `to_smash` function from the previous exercise."
   ]
  },
  {
   "cell_type": "code",
   "execution_count": 4,
   "id": "a41617db",
   "metadata": {
    "execution": {
     "iopub.execute_input": "2024-10-20T22:02:21.562217Z",
     "iopub.status.busy": "2024-10-20T22:02:21.561215Z",
     "iopub.status.idle": "2024-10-20T22:02:21.567777Z",
     "shell.execute_reply": "2024-10-20T22:02:21.566724Z"
    },
    "papermill": {
     "duration": 0.018458,
     "end_time": "2024-10-20T22:02:21.570041",
     "exception": false,
     "start_time": "2024-10-20T22:02:21.551583",
     "status": "completed"
    },
    "tags": []
   },
   "outputs": [
    {
     "name": "stdout",
     "output_type": "stream",
     "text": [
      "Splitting 91 candies\n",
      "1\n"
     ]
    }
   ],
   "source": [
    "def to_smash(total_candies):\n",
    "    \"\"\"Return the number of leftover candies that must be smashed after distributing\n",
    "    the given number of candies evenly between 3 friends.\n",
    "    \n",
    "    >>> to_smash(91)\n",
    "    1\n",
    "    \"\"\"\n",
    "    # Print the number of candies being split\n",
    "    print(\"Splitting\", total_candies, \"candies\")\n",
    "\n",
    "    # Calculate and return the number of leftover candies\n",
    "    return total_candies % 3\n",
    "\n",
    "# Test the function\n",
    "print(to_smash(91))  # Output: 1\n"
   ]
  },
  {
   "cell_type": "markdown",
   "id": "5b668202",
   "metadata": {
    "papermill": {
     "duration": 0.00844,
     "end_time": "2024-10-20T22:02:21.587178",
     "exception": false,
     "start_time": "2024-10-20T22:02:21.578738",
     "status": "completed"
    },
    "tags": []
   },
   "source": [
    "What happens if we call it with `total_candies = 1`?"
   ]
  },
  {
   "cell_type": "markdown",
   "id": "3c9a59c0",
   "metadata": {
    "papermill": {
     "duration": 0.008601,
     "end_time": "2024-10-20T22:02:21.604774",
     "exception": false,
     "start_time": "2024-10-20T22:02:21.596173",
     "status": "completed"
    },
    "tags": []
   },
   "source": [
    "That isn't great grammar!\n",
    "\n",
    "Modify the definition in the cell below to correct the grammar of our print statement. (If there's only one candy, we should use the singular \"candy\" instead of the plural \"candies\")"
   ]
  },
  {
   "cell_type": "code",
   "execution_count": 5,
   "id": "8afa001a",
   "metadata": {
    "execution": {
     "iopub.execute_input": "2024-10-20T22:02:21.624099Z",
     "iopub.status.busy": "2024-10-20T22:02:21.623693Z",
     "iopub.status.idle": "2024-10-20T22:02:21.629776Z",
     "shell.execute_reply": "2024-10-20T22:02:21.628822Z"
    },
    "papermill": {
     "duration": 0.0183,
     "end_time": "2024-10-20T22:02:21.632119",
     "exception": false,
     "start_time": "2024-10-20T22:02:21.613819",
     "status": "completed"
    },
    "tags": []
   },
   "outputs": [
    {
     "name": "stdout",
     "output_type": "stream",
     "text": [
      "Splitting 1 candy\n",
      "1\n"
     ]
    }
   ],
   "source": [
    "def to_smash(total_candies):\n",
    "    \"\"\"Return the number of leftover candies that must be smashed after distributing\n",
    "    the given number of candies evenly between 3 friends.\n",
    "    \n",
    "    >>> to_smash(91)\n",
    "    1\n",
    "    >>> to_smash(1)\n",
    "    1\n",
    "    \"\"\"\n",
    "    # Determine the correct wording for the print statement\n",
    "    if total_candies == 1:\n",
    "        print(\"Splitting 1 candy\")\n",
    "    else:\n",
    "        print(\"Splitting\", total_candies, \"candies\")\n",
    "\n",
    "    # Calculate and return the number of leftover candies\n",
    "    return total_candies % 3\n",
    "\n",
    "# Test the function\n",
    "print(to_smash(1))   # Output: 1\n"
   ]
  },
  {
   "cell_type": "markdown",
   "id": "b889b3cc",
   "metadata": {
    "papermill": {
     "duration": 0.008839,
     "end_time": "2024-10-20T22:02:21.649723",
     "exception": false,
     "start_time": "2024-10-20T22:02:21.640884",
     "status": "completed"
    },
    "tags": []
   },
   "source": [
    "To get credit for completing this problem, and to see the official answer, run the code cell below."
   ]
  },
  {
   "cell_type": "code",
   "execution_count": 6,
   "id": "379ec9ad",
   "metadata": {
    "execution": {
     "iopub.execute_input": "2024-10-20T22:02:21.668792Z",
     "iopub.status.busy": "2024-10-20T22:02:21.668424Z",
     "iopub.status.idle": "2024-10-20T22:02:21.672673Z",
     "shell.execute_reply": "2024-10-20T22:02:21.671699Z"
    },
    "papermill": {
     "duration": 0.016312,
     "end_time": "2024-10-20T22:02:21.674687",
     "exception": false,
     "start_time": "2024-10-20T22:02:21.658375",
     "status": "completed"
    },
    "tags": []
   },
   "outputs": [],
   "source": [
    "# Check your answer (Run this code cell to receive credit!)\n",
    "# q2.solution()"
   ]
  },
  {
   "cell_type": "markdown",
   "id": "ff2b49d7",
   "metadata": {
    "papermill": {
     "duration": 0.008337,
     "end_time": "2024-10-20T22:02:21.691770",
     "exception": false,
     "start_time": "2024-10-20T22:02:21.683433",
     "status": "completed"
    },
    "tags": []
   },
   "source": [
    "# 3. <span title=\"A bit spicy\" style=\"color: darkgreen \">🌶️</span>\n",
    "\n",
    "In the tutorial, we talked about deciding whether we're prepared for the weather. I said that I'm safe from today's weather if...\n",
    "- I have an umbrella...\n",
    "- or if the rain isn't too heavy and I have a hood...\n",
    "- otherwise, I'm still fine unless it's raining *and* it's a workday\n",
    "\n",
    "The function below uses our first attempt at turning this logic into a Python expression. I claimed that there was a bug in that code. Can you find it?\n",
    "\n",
    "To prove that `prepared_for_weather` is buggy, come up with a set of inputs where either:\n",
    "- the function returns `False` (but should have returned `True`), or\n",
    "- the function returned `True` (but should have returned `False`).\n",
    "\n",
    "To get credit for completing this question, your code should return a <font color='#33cc33'>Correct</font> result."
   ]
  },
  {
   "cell_type": "code",
   "execution_count": 7,
   "id": "867cc795",
   "metadata": {
    "execution": {
     "iopub.execute_input": "2024-10-20T22:02:21.710662Z",
     "iopub.status.busy": "2024-10-20T22:02:21.710248Z",
     "iopub.status.idle": "2024-10-20T22:02:21.720751Z",
     "shell.execute_reply": "2024-10-20T22:02:21.719819Z"
    },
    "papermill": {
     "duration": 0.022322,
     "end_time": "2024-10-20T22:02:21.722772",
     "exception": false,
     "start_time": "2024-10-20T22:02:21.700450",
     "status": "completed"
    },
    "tags": []
   },
   "outputs": [
    {
     "name": "stdout",
     "output_type": "stream",
     "text": [
      "False\n"
     ]
    },
    {
     "data": {
      "application/javascript": [
       "parent.postMessage({\"jupyterEvent\": \"custom.exercise_interaction\", \"data\": {\"outcomeType\": 1, \"valueTowardsCompletion\": 0.2, \"interactionType\": 1, \"questionType\": 1, \"questionId\": \"3_WeatherDebug\", \"learnToolsVersion\": \"0.3.4\", \"failureMessage\": \"\", \"exceptionClass\": \"\", \"trace\": \"\"}}, \"*\")"
      ],
      "text/plain": [
       "<IPython.core.display.Javascript object>"
      ]
     },
     "metadata": {},
     "output_type": "display_data"
    },
    {
     "data": {
      "text/markdown": [
       "<span style=\"color:#33cc33\">Correct:</span> \n",
       "\n",
       "One example of a failing test case is:\n",
       "\n",
       "```python\n",
       "have_umbrella = False\n",
       "rain_level = 0.0\n",
       "have_hood = False\n",
       "is_workday = False\n",
       "```\n",
       "\n",
       "Clearly we're prepared for the weather in this case. It's not raining. Not only that, it's not a workday, so we don't even need to leave the house! But our function will return False on these inputs.\n",
       "\n",
       "The key problem is that Python implictly parenthesizes the last part as:\n",
       "\n",
       "```python\n",
       "(not (rain_level > 0)) and is_workday\n",
       "```\n",
       "\n",
       "Whereas what we were trying to express would look more like:\n",
       "\n",
       "```python\n",
       "not (rain_level > 0 and is_workday)\n",
       "```\n"
      ],
      "text/plain": [
       "Correct: \n",
       "\n",
       "One example of a failing test case is:\n",
       "\n",
       "```python\n",
       "have_umbrella = False\n",
       "rain_level = 0.0\n",
       "have_hood = False\n",
       "is_workday = False\n",
       "```\n",
       "\n",
       "Clearly we're prepared for the weather in this case. It's not raining. Not only that, it's not a workday, so we don't even need to leave the house! But our function will return False on these inputs.\n",
       "\n",
       "The key problem is that Python implictly parenthesizes the last part as:\n",
       "\n",
       "```python\n",
       "(not (rain_level > 0)) and is_workday\n",
       "```\n",
       "\n",
       "Whereas what we were trying to express would look more like:\n",
       "\n",
       "```python\n",
       "not (rain_level > 0 and is_workday)\n",
       "```"
      ]
     },
     "metadata": {},
     "output_type": "display_data"
    }
   ],
   "source": [
    "def prepared_for_weather(have_umbrella, rain_level, have_hood, is_workday):\n",
    "    # Don't change this code. Our goal is just to find the bug, not fix it!\n",
    "    return have_umbrella or rain_level < 5 and have_hood or not rain_level > 0 and is_workday\n",
    "\n",
    "# Change the values of these inputs so they represent a case where prepared_for_weather\n",
    "# returns the wrong answer.\n",
    "have_umbrella = False\n",
    "rain_level = 7\n",
    "have_hood = -1\n",
    "is_workday = False\n",
    "\n",
    "# Check what the function returns given the current values of the variables above\n",
    "actual = prepared_for_weather(have_umbrella, rain_level, have_hood, is_workday)\n",
    "print(actual)\n",
    "\n",
    "# Check your answer\n",
    "q3.check()"
   ]
  },
  {
   "cell_type": "code",
   "execution_count": 8,
   "id": "87375e5f",
   "metadata": {
    "execution": {
     "iopub.execute_input": "2024-10-20T22:02:21.742810Z",
     "iopub.status.busy": "2024-10-20T22:02:21.742439Z",
     "iopub.status.idle": "2024-10-20T22:02:21.746695Z",
     "shell.execute_reply": "2024-10-20T22:02:21.745680Z"
    },
    "papermill": {
     "duration": 0.016786,
     "end_time": "2024-10-20T22:02:21.748886",
     "exception": false,
     "start_time": "2024-10-20T22:02:21.732100",
     "status": "completed"
    },
    "tags": []
   },
   "outputs": [],
   "source": [
    "#q3.hint()\n",
    "#q3.solution()"
   ]
  },
  {
   "cell_type": "markdown",
   "id": "1180281f",
   "metadata": {
    "papermill": {
     "duration": 0.008908,
     "end_time": "2024-10-20T22:02:21.767037",
     "exception": false,
     "start_time": "2024-10-20T22:02:21.758129",
     "status": "completed"
    },
    "tags": []
   },
   "source": [
    "# 4.\n",
    "\n",
    "The function `is_negative` below is implemented correctly - it returns True if the given number is negative and False otherwise.\n",
    "\n",
    "However, it's more verbose than it needs to be. We can actually reduce the number of lines of code in this function by *75%* while keeping the same behaviour. \n",
    "\n",
    "See if you can come up with an equivalent body that uses just **one line** of code, and put it in the function `concise_is_negative`. (HINT: you don't even need Python's ternary syntax)"
   ]
  },
  {
   "cell_type": "code",
   "execution_count": 9,
   "id": "47baae26",
   "metadata": {
    "execution": {
     "iopub.execute_input": "2024-10-20T22:02:21.787240Z",
     "iopub.status.busy": "2024-10-20T22:02:21.786502Z",
     "iopub.status.idle": "2024-10-20T22:02:21.795403Z",
     "shell.execute_reply": "2024-10-20T22:02:21.794434Z"
    },
    "papermill": {
     "duration": 0.021372,
     "end_time": "2024-10-20T22:02:21.797612",
     "exception": false,
     "start_time": "2024-10-20T22:02:21.776240",
     "status": "completed"
    },
    "tags": []
   },
   "outputs": [
    {
     "data": {
      "application/javascript": [
       "parent.postMessage({\"jupyterEvent\": \"custom.exercise_interaction\", \"data\": {\"outcomeType\": 1, \"valueTowardsCompletion\": 0.2, \"interactionType\": 1, \"questionType\": 2, \"questionId\": \"4_ConciseIsNegative\", \"learnToolsVersion\": \"0.3.4\", \"failureMessage\": \"\", \"exceptionClass\": \"\", \"trace\": \"\"}}, \"*\")"
      ],
      "text/plain": [
       "<IPython.core.display.Javascript object>"
      ]
     },
     "metadata": {},
     "output_type": "display_data"
    },
    {
     "data": {
      "text/markdown": [
       "<span style=\"color:#33cc33\">Correct</span>"
      ],
      "text/plain": [
       "Correct"
      ]
     },
     "metadata": {},
     "output_type": "display_data"
    }
   ],
   "source": [
    "def is_negative(number):\n",
    "    if number < 0:\n",
    "        return True\n",
    "    else:\n",
    "        return False\n",
    "\n",
    "def concise_is_negative(number):\n",
    "    return True if number < 0 else False\n",
    "\n",
    "# Check your answer\n",
    "q4.check()"
   ]
  },
  {
   "cell_type": "code",
   "execution_count": 10,
   "id": "828ab61f",
   "metadata": {
    "execution": {
     "iopub.execute_input": "2024-10-20T22:02:21.818480Z",
     "iopub.status.busy": "2024-10-20T22:02:21.817608Z",
     "iopub.status.idle": "2024-10-20T22:02:21.821949Z",
     "shell.execute_reply": "2024-10-20T22:02:21.821020Z"
    },
    "papermill": {
     "duration": 0.016952,
     "end_time": "2024-10-20T22:02:21.824027",
     "exception": false,
     "start_time": "2024-10-20T22:02:21.807075",
     "status": "completed"
    },
    "tags": []
   },
   "outputs": [],
   "source": [
    "#q4.hint()\n",
    "#q4.solution()"
   ]
  },
  {
   "cell_type": "markdown",
   "id": "3220e1e8",
   "metadata": {
    "papermill": {
     "duration": 0.009119,
     "end_time": "2024-10-20T22:02:21.842574",
     "exception": false,
     "start_time": "2024-10-20T22:02:21.833455",
     "status": "completed"
    },
    "tags": []
   },
   "source": [
    "# 5a.\n",
    "\n",
    "The boolean variables `ketchup`, `mustard` and `onion` represent whether a customer wants a particular topping on their hot dog. We want to implement a number of boolean functions that correspond to some yes-or-no questions about the customer's order. For example:"
   ]
  },
  {
   "cell_type": "code",
   "execution_count": 11,
   "id": "acb806ad",
   "metadata": {
    "execution": {
     "iopub.execute_input": "2024-10-20T22:02:21.863100Z",
     "iopub.status.busy": "2024-10-20T22:02:21.862687Z",
     "iopub.status.idle": "2024-10-20T22:02:21.867479Z",
     "shell.execute_reply": "2024-10-20T22:02:21.866395Z"
    },
    "papermill": {
     "duration": 0.017495,
     "end_time": "2024-10-20T22:02:21.869570",
     "exception": false,
     "start_time": "2024-10-20T22:02:21.852075",
     "status": "completed"
    },
    "tags": []
   },
   "outputs": [],
   "source": [
    "def onionless(ketchup, mustard, onion):\n",
    "    \"\"\"Return whether the customer doesn't want onions.\n",
    "    \"\"\"\n",
    "    return not onion"
   ]
  },
  {
   "cell_type": "code",
   "execution_count": 12,
   "id": "a79b8a6e",
   "metadata": {
    "execution": {
     "iopub.execute_input": "2024-10-20T22:02:21.890078Z",
     "iopub.status.busy": "2024-10-20T22:02:21.889664Z",
     "iopub.status.idle": "2024-10-20T22:02:21.898181Z",
     "shell.execute_reply": "2024-10-20T22:02:21.897226Z"
    },
    "papermill": {
     "duration": 0.021329,
     "end_time": "2024-10-20T22:02:21.900419",
     "exception": false,
     "start_time": "2024-10-20T22:02:21.879090",
     "status": "completed"
    },
    "tags": []
   },
   "outputs": [
    {
     "data": {
      "application/javascript": [
       "parent.postMessage({\"jupyterEvent\": \"custom.exercise_interaction\", \"data\": {\"outcomeType\": 1, \"valueTowardsCompletion\": 0.2, \"interactionType\": 1, \"questionType\": 2, \"questionId\": \"5.1_AllToppings\", \"learnToolsVersion\": \"0.3.4\", \"failureMessage\": \"\", \"exceptionClass\": \"\", \"trace\": \"\"}}, \"*\")"
      ],
      "text/plain": [
       "<IPython.core.display.Javascript object>"
      ]
     },
     "metadata": {},
     "output_type": "display_data"
    },
    {
     "data": {
      "text/markdown": [
       "<span style=\"color:#33cc33\">Correct</span>"
      ],
      "text/plain": [
       "Correct"
      ]
     },
     "metadata": {},
     "output_type": "display_data"
    }
   ],
   "source": [
    "def wants_all_toppings(ketchup, mustard, onion):\n",
    "    \"\"\"Return whether the customer wants \"the works\" (all 3 toppings)\n",
    "    \"\"\"\n",
    "    return ketchup and mustard and onion\n",
    "\n",
    "# Check your answer\n",
    "q5.a.check()"
   ]
  },
  {
   "cell_type": "code",
   "execution_count": 13,
   "id": "436649fe",
   "metadata": {
    "execution": {
     "iopub.execute_input": "2024-10-20T22:02:21.921726Z",
     "iopub.status.busy": "2024-10-20T22:02:21.920974Z",
     "iopub.status.idle": "2024-10-20T22:02:21.924981Z",
     "shell.execute_reply": "2024-10-20T22:02:21.924077Z"
    },
    "papermill": {
     "duration": 0.017014,
     "end_time": "2024-10-20T22:02:21.927162",
     "exception": false,
     "start_time": "2024-10-20T22:02:21.910148",
     "status": "completed"
    },
    "tags": []
   },
   "outputs": [],
   "source": [
    "# q5.a.hint()\n",
    "# q5.a.solution()"
   ]
  },
  {
   "cell_type": "markdown",
   "id": "8b6aa42a",
   "metadata": {
    "papermill": {
     "duration": 0.00917,
     "end_time": "2024-10-20T22:02:21.945812",
     "exception": false,
     "start_time": "2024-10-20T22:02:21.936642",
     "status": "completed"
    },
    "tags": []
   },
   "source": [
    "# 5b.\n",
    "\n",
    "For the next function, fill in the body to match the English description in the docstring. "
   ]
  },
  {
   "cell_type": "code",
   "execution_count": 14,
   "id": "61874e86",
   "metadata": {
    "execution": {
     "iopub.execute_input": "2024-10-20T22:02:21.966761Z",
     "iopub.status.busy": "2024-10-20T22:02:21.966360Z",
     "iopub.status.idle": "2024-10-20T22:02:21.974971Z",
     "shell.execute_reply": "2024-10-20T22:02:21.974046Z"
    },
    "papermill": {
     "duration": 0.021529,
     "end_time": "2024-10-20T22:02:21.976969",
     "exception": false,
     "start_time": "2024-10-20T22:02:21.955440",
     "status": "completed"
    },
    "tags": []
   },
   "outputs": [
    {
     "data": {
      "application/javascript": [
       "parent.postMessage({\"jupyterEvent\": \"custom.exercise_interaction\", \"data\": {\"outcomeType\": 1, \"valueTowardsCompletion\": 0.2, \"interactionType\": 1, \"questionType\": 2, \"questionId\": \"5.2_PlainDog\", \"learnToolsVersion\": \"0.3.4\", \"failureMessage\": \"\", \"exceptionClass\": \"\", \"trace\": \"\"}}, \"*\")"
      ],
      "text/plain": [
       "<IPython.core.display.Javascript object>"
      ]
     },
     "metadata": {},
     "output_type": "display_data"
    },
    {
     "data": {
      "text/markdown": [
       "<span style=\"color:#33cc33\">Correct:</span> \n",
       "\n",
       "One solution looks like:\n",
       "```python\n",
       "return not ketchup and not mustard and not onion\n",
       "```\n",
       "\n",
       "We can also [\"factor out\" the nots](https://en.wikipedia.org/wiki/De_Morgan%27s_laws) to get:\n",
       "\n",
       "```python\n",
       "return not (ketchup or mustard or onion)\n",
       "```"
      ],
      "text/plain": [
       "Correct: \n",
       "\n",
       "One solution looks like:\n",
       "```python\n",
       "return not ketchup and not mustard and not onion\n",
       "```\n",
       "\n",
       "We can also [\"factor out\" the nots](https://en.wikipedia.org/wiki/De_Morgan%27s_laws) to get:\n",
       "\n",
       "```python\n",
       "return not (ketchup or mustard or onion)\n",
       "```"
      ]
     },
     "metadata": {},
     "output_type": "display_data"
    }
   ],
   "source": [
    "def wants_plain_hotdog(ketchup, mustard, onion):\n",
    "    \"\"\"Return whether the customer wants a plain hot dog with no toppings.\n",
    "    \"\"\"\n",
    "    return not ketchup and not mustard and not onion\n",
    "\n",
    "# Check your answer\n",
    "q5.b.check()"
   ]
  },
  {
   "cell_type": "code",
   "execution_count": 15,
   "id": "e6ae1288",
   "metadata": {
    "execution": {
     "iopub.execute_input": "2024-10-20T22:02:21.998251Z",
     "iopub.status.busy": "2024-10-20T22:02:21.997742Z",
     "iopub.status.idle": "2024-10-20T22:02:22.002050Z",
     "shell.execute_reply": "2024-10-20T22:02:22.001059Z"
    },
    "papermill": {
     "duration": 0.017802,
     "end_time": "2024-10-20T22:02:22.004638",
     "exception": false,
     "start_time": "2024-10-20T22:02:21.986836",
     "status": "completed"
    },
    "tags": []
   },
   "outputs": [],
   "source": [
    "#q5.b.hint()\n",
    "#q5.b.solution()"
   ]
  },
  {
   "cell_type": "markdown",
   "id": "c4ba7bf0",
   "metadata": {
    "papermill": {
     "duration": 0.01009,
     "end_time": "2024-10-20T22:02:22.024773",
     "exception": false,
     "start_time": "2024-10-20T22:02:22.014683",
     "status": "completed"
    },
    "tags": []
   },
   "source": [
    "# 5c.\n",
    "\n",
    "You know what to do: for the next function, fill in the body to match the English description in the docstring."
   ]
  },
  {
   "cell_type": "code",
   "execution_count": 16,
   "id": "764b1f03",
   "metadata": {
    "execution": {
     "iopub.execute_input": "2024-10-20T22:02:22.046827Z",
     "iopub.status.busy": "2024-10-20T22:02:22.046424Z",
     "iopub.status.idle": "2024-10-20T22:02:22.055143Z",
     "shell.execute_reply": "2024-10-20T22:02:22.054190Z"
    },
    "papermill": {
     "duration": 0.022151,
     "end_time": "2024-10-20T22:02:22.057324",
     "exception": false,
     "start_time": "2024-10-20T22:02:22.035173",
     "status": "completed"
    },
    "tags": []
   },
   "outputs": [
    {
     "data": {
      "application/javascript": [
       "parent.postMessage({\"jupyterEvent\": \"custom.exercise_interaction\", \"data\": {\"outcomeType\": 1, \"valueTowardsCompletion\": 0.2, \"interactionType\": 1, \"questionType\": 2, \"questionId\": \"5.3_OneSauce\", \"learnToolsVersion\": \"0.3.4\", \"failureMessage\": \"\", \"exceptionClass\": \"\", \"trace\": \"\"}}, \"*\")"
      ],
      "text/plain": [
       "<IPython.core.display.Javascript object>"
      ]
     },
     "metadata": {},
     "output_type": "display_data"
    },
    {
     "data": {
      "text/markdown": [
       "<span style=\"color:#33cc33\">Correct</span>"
      ],
      "text/plain": [
       "Correct"
      ]
     },
     "metadata": {},
     "output_type": "display_data"
    }
   ],
   "source": [
    "def exactly_one_sauce(ketchup, mustard, onion):\n",
    "    \"\"\"Return whether the customer wants either ketchup or mustard, but not both.\n",
    "    (You may be familiar with this operation under the name \"exclusive or\")\n",
    "    \"\"\"\n",
    "    return (not ketchup or not mustard) and onion\n",
    "\n",
    "# Check your answer\n",
    "q5.c.check()"
   ]
  },
  {
   "cell_type": "code",
   "execution_count": 17,
   "id": "896a42c1",
   "metadata": {
    "execution": {
     "iopub.execute_input": "2024-10-20T22:02:22.079927Z",
     "iopub.status.busy": "2024-10-20T22:02:22.078892Z",
     "iopub.status.idle": "2024-10-20T22:02:22.083375Z",
     "shell.execute_reply": "2024-10-20T22:02:22.082303Z"
    },
    "papermill": {
     "duration": 0.018022,
     "end_time": "2024-10-20T22:02:22.085524",
     "exception": false,
     "start_time": "2024-10-20T22:02:22.067502",
     "status": "completed"
    },
    "tags": []
   },
   "outputs": [],
   "source": [
    "#q5.c.hint()\n",
    "#q5.c.solution()"
   ]
  },
  {
   "cell_type": "markdown",
   "id": "1c9cc39e",
   "metadata": {
    "papermill": {
     "duration": 0.00976,
     "end_time": "2024-10-20T22:02:22.105454",
     "exception": false,
     "start_time": "2024-10-20T22:02:22.095694",
     "status": "completed"
    },
    "tags": []
   },
   "source": [
    "# 6. <span title=\"A bit spicy\" style=\"color: darkgreen \">🌶️</span>\n",
    "\n",
    "We’ve seen that calling `bool()` on an integer returns `False` if it’s equal to 0 and `True` otherwise. What happens if we call `int()` on a bool? Try it out in the notebook cell below.\n",
    "\n",
    "Can you take advantage of this to write a succinct function that corresponds to the English sentence \"does the customer want exactly one topping?\"?"
   ]
  },
  {
   "cell_type": "code",
   "execution_count": 18,
   "id": "0a9ea55e",
   "metadata": {
    "execution": {
     "iopub.execute_input": "2024-10-20T22:02:22.127709Z",
     "iopub.status.busy": "2024-10-20T22:02:22.126960Z",
     "iopub.status.idle": "2024-10-20T22:02:22.136174Z",
     "shell.execute_reply": "2024-10-20T22:02:22.135121Z"
    },
    "papermill": {
     "duration": 0.022658,
     "end_time": "2024-10-20T22:02:22.138222",
     "exception": false,
     "start_time": "2024-10-20T22:02:22.115564",
     "status": "completed"
    },
    "tags": []
   },
   "outputs": [
    {
     "data": {
      "application/javascript": [
       "parent.postMessage({\"jupyterEvent\": \"custom.exercise_interaction\", \"data\": {\"outcomeType\": 1, \"valueTowardsCompletion\": 0.2, \"interactionType\": 1, \"questionType\": 2, \"questionId\": \"6_OneTopping\", \"learnToolsVersion\": \"0.3.4\", \"failureMessage\": \"\", \"exceptionClass\": \"\", \"trace\": \"\"}}, \"*\")"
      ],
      "text/plain": [
       "<IPython.core.display.Javascript object>"
      ]
     },
     "metadata": {},
     "output_type": "display_data"
    },
    {
     "data": {
      "text/markdown": [
       "<span style=\"color:#33cc33\">Correct:</span> \n",
       "\n",
       "This condition would be pretty complicated to express using just `and`, `or` and `not`, but using boolean-to-integer conversion gives us this short solution:\n",
       "```python\n",
       "return (int(ketchup) + int(mustard) + int(onion)) == 1\n",
       "```\n",
       "\n",
       "Fun fact: we don't technically need to call `int` on the arguments. Just by doing addition with booleans, Python implicitly does the integer conversion. So we could also write...\n",
       "\n",
       "```python\n",
       "return (ketchup + mustard + onion) == 1\n",
       "```"
      ],
      "text/plain": [
       "Correct: \n",
       "\n",
       "This condition would be pretty complicated to express using just `and`, `or` and `not`, but using boolean-to-integer conversion gives us this short solution:\n",
       "```python\n",
       "return (int(ketchup) + int(mustard) + int(onion)) == 1\n",
       "```\n",
       "\n",
       "Fun fact: we don't technically need to call `int` on the arguments. Just by doing addition with booleans, Python implicitly does the integer conversion. So we could also write...\n",
       "\n",
       "```python\n",
       "return (ketchup + mustard + onion) == 1\n",
       "```"
      ]
     },
     "metadata": {},
     "output_type": "display_data"
    }
   ],
   "source": [
    "def exactly_one_topping(ketchup, mustard, onion):\n",
    "    \"\"\"Return whether the customer wants exactly one of the three available toppings\n",
    "    on their hot dog.\n",
    "    \"\"\"\n",
    "    return (ketchup + mustard + onion) == 1\n",
    "\n",
    "# Check your answer\n",
    "q6.check()"
   ]
  },
  {
   "cell_type": "code",
   "execution_count": 19,
   "id": "6ff769c7",
   "metadata": {
    "execution": {
     "iopub.execute_input": "2024-10-20T22:02:22.160880Z",
     "iopub.status.busy": "2024-10-20T22:02:22.160489Z",
     "iopub.status.idle": "2024-10-20T22:02:22.164799Z",
     "shell.execute_reply": "2024-10-20T22:02:22.163774Z"
    },
    "papermill": {
     "duration": 0.018094,
     "end_time": "2024-10-20T22:02:22.166861",
     "exception": false,
     "start_time": "2024-10-20T22:02:22.148767",
     "status": "completed"
    },
    "tags": []
   },
   "outputs": [],
   "source": [
    "# q6.hint()\n",
    "# q6.solution()"
   ]
  },
  {
   "cell_type": "markdown",
   "id": "1e20c939",
   "metadata": {
    "papermill": {
     "duration": 0.010192,
     "end_time": "2024-10-20T22:02:22.187573",
     "exception": false,
     "start_time": "2024-10-20T22:02:22.177381",
     "status": "completed"
    },
    "tags": []
   },
   "source": [
    "# 7. <span title=\"A bit spicy\" style=\"color: darkgreen \">🌶️</span> (Optional)\n",
    "\n",
    "In this problem we'll be working with a simplified version of [blackjack](https://en.wikipedia.org/wiki/Blackjack) (aka twenty-one). In this version there is one player (who you'll control) and a dealer. Play proceeds as follows:\n",
    "\n",
    "- The player is dealt two face-up cards. The dealer is dealt one face-up card.\n",
    "- The player may ask to be dealt another card ('hit') as many times as they wish. If the sum of their cards exceeds 21, they lose the round immediately.\n",
    "- The dealer then deals additional cards to himself until either:\n",
    "    - the sum of the dealer's cards exceeds 21, in which case the player wins the round\n",
    "    - the sum of the dealer's cards is greater than or equal to 17. If the player's total is greater than the dealer's, the player wins. Otherwise, the dealer wins (even in case of a tie).\n",
    "    \n",
    "When calculating the sum of cards, Jack, Queen, and King count for 10. Aces can count as 1 or 11 (when referring to a player's \"total\" above, we mean the largest total that can be made without exceeding 21. So e.g. A+8 = 19, A+8+8 = 17)\n",
    "\n",
    "For this problem, you'll write a function representing the player's decision-making strategy in this game. We've provided a very unintelligent implementation below:"
   ]
  },
  {
   "cell_type": "code",
   "execution_count": 20,
   "id": "c284ede7",
   "metadata": {
    "execution": {
     "iopub.execute_input": "2024-10-20T22:02:22.210871Z",
     "iopub.status.busy": "2024-10-20T22:02:22.209948Z",
     "iopub.status.idle": "2024-10-20T22:02:22.215722Z",
     "shell.execute_reply": "2024-10-20T22:02:22.214724Z"
    },
    "papermill": {
     "duration": 0.019978,
     "end_time": "2024-10-20T22:02:22.218090",
     "exception": false,
     "start_time": "2024-10-20T22:02:22.198112",
     "status": "completed"
    },
    "tags": []
   },
   "outputs": [],
   "source": [
    "def should_hit(dealer_total, player_total, player_low_aces, player_high_aces):\n",
    "    # Player should hit if total is less than 12\n",
    "    if player_total < 12:\n",
    "        return True\n",
    "    \n",
    "    # If the player has a total between 12 and 16, make a decision based on dealer's total\n",
    "    if 12 <= player_total <= 16:\n",
    "        if dealer_total >= 7:\n",
    "            return True  # Hit against a strong dealer's hand\n",
    "        else:\n",
    "            return False  # Stay against a weak dealer's hand\n",
    "    \n",
    "    # If the player has 17 or more, they should stay\n",
    "    return False\n"
   ]
  },
  {
   "cell_type": "markdown",
   "id": "8883515e",
   "metadata": {
    "papermill": {
     "duration": 0.010169,
     "end_time": "2024-10-20T22:02:22.238842",
     "exception": false,
     "start_time": "2024-10-20T22:02:22.228673",
     "status": "completed"
    },
    "tags": []
   },
   "source": [
    "This very conservative agent *always* sticks with the hand of two cards that they're dealt.\n",
    "\n",
    "We'll be simulating games between your player agent and our own dealer agent by calling your function.\n",
    "\n",
    "Try running the function below to see an example of a simulated game:"
   ]
  },
  {
   "cell_type": "code",
   "execution_count": 21,
   "id": "0e7581c0",
   "metadata": {
    "execution": {
     "iopub.execute_input": "2024-10-20T22:02:22.261247Z",
     "iopub.status.busy": "2024-10-20T22:02:22.260832Z",
     "iopub.status.idle": "2024-10-20T22:02:22.265893Z",
     "shell.execute_reply": "2024-10-20T22:02:22.264964Z"
    },
    "papermill": {
     "duration": 0.019554,
     "end_time": "2024-10-20T22:02:22.268828",
     "exception": false,
     "start_time": "2024-10-20T22:02:22.249274",
     "status": "completed"
    },
    "tags": []
   },
   "outputs": [
    {
     "name": "stdout",
     "output_type": "stream",
     "text": [
      "Player starts with 4 and 8 (total = 12)\n",
      "Dealer starts with 4\n",
      "\n",
      "__Player's turn__\n",
      "Player stays\n",
      "\n",
      "__Dealer's turn__\n",
      "Dealer hits and receives 5. (total = 9)\n",
      "Dealer hits and receives 5. (total = 14)\n",
      "Dealer hits and receives 10. (total = 24)\n",
      "Dealer busts! Player wins.\n"
     ]
    }
   ],
   "source": [
    "q7.simulate_one_game()"
   ]
  },
  {
   "cell_type": "markdown",
   "id": "8578bcae",
   "metadata": {
    "papermill": {
     "duration": 0.01015,
     "end_time": "2024-10-20T22:02:22.289457",
     "exception": false,
     "start_time": "2024-10-20T22:02:22.279307",
     "status": "completed"
    },
    "tags": []
   },
   "source": [
    "The real test of your agent's mettle is their average win rate over many games. Try calling the function below to simulate 50000 games of blackjack (it may take a couple seconds):"
   ]
  },
  {
   "cell_type": "code",
   "execution_count": 22,
   "id": "5a8a288f",
   "metadata": {
    "execution": {
     "iopub.execute_input": "2024-10-20T22:02:22.311819Z",
     "iopub.status.busy": "2024-10-20T22:02:22.311437Z",
     "iopub.status.idle": "2024-10-20T22:02:23.827993Z",
     "shell.execute_reply": "2024-10-20T22:02:23.826613Z"
    },
    "papermill": {
     "duration": 1.530567,
     "end_time": "2024-10-20T22:02:23.830438",
     "exception": false,
     "start_time": "2024-10-20T22:02:22.299871",
     "status": "completed"
    },
    "tags": []
   },
   "outputs": [
    {
     "name": "stdout",
     "output_type": "stream",
     "text": [
      "Player won 21365 out of 50000 games (win rate = 42.7%)\n"
     ]
    }
   ],
   "source": [
    "q7.simulate(n_games=50000)"
   ]
  },
  {
   "cell_type": "markdown",
   "id": "94988b45",
   "metadata": {
    "papermill": {
     "duration": 0.010375,
     "end_time": "2024-10-20T22:02:23.851604",
     "exception": false,
     "start_time": "2024-10-20T22:02:23.841229",
     "status": "completed"
    },
    "tags": []
   },
   "source": [
    "Our dumb agent that completely ignores the game state still manages to win shockingly often!\n",
    "\n",
    "Try adding some more smarts to the `should_hit` function and see how it affects the results."
   ]
  },
  {
   "cell_type": "code",
   "execution_count": 23,
   "id": "10ec6fd0",
   "metadata": {
    "execution": {
     "iopub.execute_input": "2024-10-20T22:02:23.874398Z",
     "iopub.status.busy": "2024-10-20T22:02:23.874045Z",
     "iopub.status.idle": "2024-10-20T22:02:25.400676Z",
     "shell.execute_reply": "2024-10-20T22:02:25.399503Z"
    },
    "papermill": {
     "duration": 1.540623,
     "end_time": "2024-10-20T22:02:25.402874",
     "exception": false,
     "start_time": "2024-10-20T22:02:23.862251",
     "status": "completed"
    },
    "tags": []
   },
   "outputs": [
    {
     "name": "stdout",
     "output_type": "stream",
     "text": [
      "True\n",
      "True\n",
      "False\n",
      "True\n",
      "Player won 21108 out of 50000 games (win rate = 42.2%)\n"
     ]
    }
   ],
   "source": [
    "def should_hit(dealer_total, player_total, player_low_aces, player_high_aces):\n",
    "    \"\"\"Return True if the player should hit (request another card) given the current game\n",
    "    state, or False if the player should stay.\n",
    "    When calculating a hand's total value, we count aces as \"high\" (with value 11) if doing so\n",
    "    doesn't bring the total above 21, otherwise we count them as low (with value 1). \n",
    "    For example, if the player's hand is {A, A, A, 7}, we will count it as 11 + 1 + 1 + 7,\n",
    "    and therefore set player_total=20, player_low_aces=2, player_high_aces=1.\n",
    "    \"\"\"\n",
    "    \n",
    "    # Always hit if the player's total is less than 12\n",
    "    if player_total < 12:\n",
    "        return True\n",
    "\n",
    "    # If player total is between 12 and 16\n",
    "    if 12 <= player_total <= 16:\n",
    "        # Hit if the dealer's total is 7 or higher\n",
    "        if dealer_total >= 7:\n",
    "            return True\n",
    "        else:\n",
    "            return False  # Stay if the dealer has a weak total (6 or lower)\n",
    "\n",
    "    # If player total is 17 or higher, always stay\n",
    "    return False\n",
    "\n",
    "# Example usage\n",
    "print(should_hit(5, 10, 0, 1))  # Output: False (should stay)\n",
    "print(should_hit(7, 15, 0, 0))  # Output: True (should hit)\n",
    "print(should_hit(6, 12, 0, 1))  # Output: False (should stay)\n",
    "print(should_hit(10, 9, 0, 1))  # Output: True (should hit)\n",
    "\n",
    "\n",
    "q7.simulate(n_games=50000)"
   ]
  },
  {
   "cell_type": "markdown",
   "id": "f5ac0151",
   "metadata": {
    "papermill": {
     "duration": 0.01038,
     "end_time": "2024-10-20T22:02:25.424137",
     "exception": false,
     "start_time": "2024-10-20T22:02:25.413757",
     "status": "completed"
    },
    "tags": []
   },
   "source": [
    "# Keep Going\n",
    "\n",
    "Learn about **[lists and tuples](https://www.kaggle.com/colinmorris/lists)** to handle multiple items of data in a systematic way."
   ]
  },
  {
   "cell_type": "markdown",
   "id": "e2842584",
   "metadata": {
    "papermill": {
     "duration": 0.010376,
     "end_time": "2024-10-20T22:02:25.445205",
     "exception": false,
     "start_time": "2024-10-20T22:02:25.434829",
     "status": "completed"
    },
    "tags": []
   },
   "source": [
    "---\n",
    "\n",
    "\n",
    "\n",
    "\n",
    "*Have questions or comments? Visit the [course discussion forum](https://www.kaggle.com/learn/python/discussion) to chat with other learners.*"
   ]
  }
 ],
 "metadata": {
  "kaggle": {
   "accelerator": "none",
   "dataSources": [],
   "isGpuEnabled": false,
   "isInternetEnabled": false,
   "language": "python",
   "sourceType": "notebook"
  },
  "kernelspec": {
   "display_name": "Python 3",
   "language": "python",
   "name": "python3"
  },
  "language_info": {
   "codemirror_mode": {
    "name": "ipython",
    "version": 3
   },
   "file_extension": ".py",
   "mimetype": "text/x-python",
   "name": "python",
   "nbconvert_exporter": "python",
   "pygments_lexer": "ipython3",
   "version": "3.10.14"
  },
  "learntools_metadata": {
   "lesson_index": 2,
   "type": "exercise"
  },
  "papermill": {
   "default_parameters": {},
   "duration": 7.818738,
   "end_time": "2024-10-20T22:02:25.876191",
   "environment_variables": {},
   "exception": null,
   "input_path": "__notebook__.ipynb",
   "output_path": "__notebook__.ipynb",
   "parameters": {},
   "start_time": "2024-10-20T22:02:18.057453",
   "version": "2.6.0"
  }
 },
 "nbformat": 4,
 "nbformat_minor": 5
}
