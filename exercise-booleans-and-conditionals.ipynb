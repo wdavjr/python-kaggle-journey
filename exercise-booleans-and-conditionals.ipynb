{
 "cells": [
  {
   "cell_type": "markdown",
   "id": "36506846",
   "metadata": {
    "papermill": {
     "duration": 0.013067,
     "end_time": "2024-10-20T21:21:34.827686",
     "exception": false,
     "start_time": "2024-10-20T21:21:34.814619",
     "status": "completed"
    },
    "tags": []
   },
   "source": [
    "**This notebook is an exercise in the [Python](https://www.kaggle.com/learn/python) course.  You can reference the tutorial at [this link](https://www.kaggle.com/colinmorris/booleans-and-conditionals).**\n",
    "\n",
    "---\n"
   ]
  },
  {
   "cell_type": "markdown",
   "id": "e8274c39",
   "metadata": {
    "papermill": {
     "duration": 0.012058,
     "end_time": "2024-10-20T21:21:34.852204",
     "exception": false,
     "start_time": "2024-10-20T21:21:34.840146",
     "status": "completed"
    },
    "tags": []
   },
   "source": [
    "In this exercise, you'll put to work what you have learned about booleans and conditionals.\n",
    "\n",
    "To get started, **run the setup code below** before writing your own code (and if you leave this notebook and come back later, don't forget to run the setup code again)."
   ]
  },
  {
   "cell_type": "code",
   "execution_count": 1,
   "id": "f2a9a9a9",
   "metadata": {
    "execution": {
     "iopub.execute_input": "2024-10-20T21:21:34.878575Z",
     "iopub.status.busy": "2024-10-20T21:21:34.878067Z",
     "iopub.status.idle": "2024-10-20T21:21:35.896035Z",
     "shell.execute_reply": "2024-10-20T21:21:35.894602Z"
    },
    "papermill": {
     "duration": 1.03449,
     "end_time": "2024-10-20T21:21:35.898867",
     "exception": false,
     "start_time": "2024-10-20T21:21:34.864377",
     "status": "completed"
    },
    "tags": []
   },
   "outputs": [
    {
     "name": "stdout",
     "output_type": "stream",
     "text": [
      "Setup complete.\n"
     ]
    }
   ],
   "source": [
    "from learntools.core import binder; binder.bind(globals())\n",
    "from learntools.python.ex3 import *\n",
    "print('Setup complete.')"
   ]
  },
  {
   "cell_type": "markdown",
   "id": "7ca51feb",
   "metadata": {
    "papermill": {
     "duration": 0.011976,
     "end_time": "2024-10-20T21:21:35.924329",
     "exception": false,
     "start_time": "2024-10-20T21:21:35.912353",
     "status": "completed"
    },
    "tags": []
   },
   "source": [
    "# 1.\n",
    "\n",
    "Many programming languages have [`sign`](https://en.wikipedia.org/wiki/Sign_function) available as a built-in function. Python doesn't, but we can define our own!\n",
    "\n",
    "In the cell below, define a function called `sign` which takes a numerical argument and returns -1 if it's negative, 1 if it's positive, and 0 if it's 0."
   ]
  },
  {
   "cell_type": "code",
   "execution_count": 2,
   "id": "fe5277d3",
   "metadata": {
    "execution": {
     "iopub.execute_input": "2024-10-20T21:21:35.951157Z",
     "iopub.status.busy": "2024-10-20T21:21:35.950561Z",
     "iopub.status.idle": "2024-10-20T21:21:35.963377Z",
     "shell.execute_reply": "2024-10-20T21:21:35.962239Z"
    },
    "papermill": {
     "duration": 0.029456,
     "end_time": "2024-10-20T21:21:35.966168",
     "exception": false,
     "start_time": "2024-10-20T21:21:35.936712",
     "status": "completed"
    },
    "tags": []
   },
   "outputs": [
    {
     "data": {
      "application/javascript": [
       "parent.postMessage({\"jupyterEvent\": \"custom.exercise_interaction\", \"data\": {\"outcomeType\": 1, \"valueTowardsCompletion\": 0.2, \"interactionType\": 1, \"questionType\": 2, \"questionId\": \"1_SignFunctionProblem\", \"learnToolsVersion\": \"0.3.4\", \"failureMessage\": \"\", \"exceptionClass\": \"\", \"trace\": \"\"}}, \"*\")"
      ],
      "text/plain": [
       "<IPython.core.display.Javascript object>"
      ]
     },
     "metadata": {},
     "output_type": "display_data"
    },
    {
     "data": {
      "text/markdown": [
       "<span style=\"color:#33cc33\">Correct</span>"
      ],
      "text/plain": [
       "Correct"
      ]
     },
     "metadata": {},
     "output_type": "display_data"
    }
   ],
   "source": [
    "# Your code goes here. Define a function called 'sign'\n",
    "def sign(x):\n",
    "    if x > 0:\n",
    "        return 1\n",
    "    elif x == 0:\n",
    "        return 0\n",
    "    else:\n",
    "        return -1\n",
    "\n",
    "# Check your answer\n",
    "q1.check()"
   ]
  },
  {
   "cell_type": "code",
   "execution_count": 3,
   "id": "b22519fd",
   "metadata": {
    "execution": {
     "iopub.execute_input": "2024-10-20T21:21:35.995120Z",
     "iopub.status.busy": "2024-10-20T21:21:35.993706Z",
     "iopub.status.idle": "2024-10-20T21:21:35.999653Z",
     "shell.execute_reply": "2024-10-20T21:21:35.998222Z"
    },
    "papermill": {
     "duration": 0.023408,
     "end_time": "2024-10-20T21:21:36.002562",
     "exception": false,
     "start_time": "2024-10-20T21:21:35.979154",
     "status": "completed"
    },
    "tags": []
   },
   "outputs": [],
   "source": [
    "#q1.solution()"
   ]
  },
  {
   "cell_type": "markdown",
   "id": "5b1f547a",
   "metadata": {
    "papermill": {
     "duration": 0.012517,
     "end_time": "2024-10-20T21:21:36.028004",
     "exception": false,
     "start_time": "2024-10-20T21:21:36.015487",
     "status": "completed"
    },
    "tags": []
   },
   "source": [
    "# 2.\n",
    "\n",
    "We've decided to add \"logging\" to our `to_smash` function from the previous exercise."
   ]
  },
  {
   "cell_type": "code",
   "execution_count": 4,
   "id": "a197f4c3",
   "metadata": {
    "execution": {
     "iopub.execute_input": "2024-10-20T21:21:36.055585Z",
     "iopub.status.busy": "2024-10-20T21:21:36.055125Z",
     "iopub.status.idle": "2024-10-20T21:21:36.065344Z",
     "shell.execute_reply": "2024-10-20T21:21:36.063962Z"
    },
    "papermill": {
     "duration": 0.027153,
     "end_time": "2024-10-20T21:21:36.068097",
     "exception": false,
     "start_time": "2024-10-20T21:21:36.040944",
     "status": "completed"
    },
    "tags": []
   },
   "outputs": [
    {
     "name": "stdout",
     "output_type": "stream",
     "text": [
      "Splitting 91 candies\n"
     ]
    },
    {
     "data": {
      "text/plain": [
       "1"
      ]
     },
     "execution_count": 4,
     "metadata": {},
     "output_type": "execute_result"
    }
   ],
   "source": [
    "def to_smash(total_candies):\n",
    "    \"\"\"Return the number of leftover candies that must be smashed after distributing\n",
    "    the given number of candies evenly between 3 friends.\n",
    "    \n",
    "    >>> to_smash(91)\n",
    "    1\n",
    "    \"\"\"\n",
    "    print(\"Splitting\", total_candies, \"candies\")\n",
    "    return total_candies % 3\n",
    "\n",
    "to_smash(91)"
   ]
  },
  {
   "cell_type": "markdown",
   "id": "9f0c8f93",
   "metadata": {
    "papermill": {
     "duration": 0.013242,
     "end_time": "2024-10-20T21:21:36.094406",
     "exception": false,
     "start_time": "2024-10-20T21:21:36.081164",
     "status": "completed"
    },
    "tags": []
   },
   "source": [
    "What happens if we call it with `total_candies = 1`?"
   ]
  },
  {
   "cell_type": "code",
   "execution_count": 5,
   "id": "51e4aeca",
   "metadata": {
    "execution": {
     "iopub.execute_input": "2024-10-20T21:21:36.122235Z",
     "iopub.status.busy": "2024-10-20T21:21:36.121817Z",
     "iopub.status.idle": "2024-10-20T21:21:36.130272Z",
     "shell.execute_reply": "2024-10-20T21:21:36.129068Z"
    },
    "papermill": {
     "duration": 0.025418,
     "end_time": "2024-10-20T21:21:36.132880",
     "exception": false,
     "start_time": "2024-10-20T21:21:36.107462",
     "status": "completed"
    },
    "tags": []
   },
   "outputs": [
    {
     "name": "stdout",
     "output_type": "stream",
     "text": [
      "Splitting 1 candies\n"
     ]
    },
    {
     "data": {
      "text/plain": [
       "1"
      ]
     },
     "execution_count": 5,
     "metadata": {},
     "output_type": "execute_result"
    }
   ],
   "source": [
    "to_smash(1)"
   ]
  },
  {
   "cell_type": "markdown",
   "id": "07361b5f",
   "metadata": {
    "papermill": {
     "duration": 0.013958,
     "end_time": "2024-10-20T21:21:36.159981",
     "exception": false,
     "start_time": "2024-10-20T21:21:36.146023",
     "status": "completed"
    },
    "tags": []
   },
   "source": [
    "That isn't great grammar!\n",
    "\n",
    "Modify the definition in the cell below to correct the grammar of our print statement. (If there's only one candy, we should use the singular \"candy\" instead of the plural \"candies\")"
   ]
  },
  {
   "cell_type": "code",
   "execution_count": 6,
   "id": "cfbaeb97",
   "metadata": {
    "execution": {
     "iopub.execute_input": "2024-10-20T21:21:36.188506Z",
     "iopub.status.busy": "2024-10-20T21:21:36.188079Z",
     "iopub.status.idle": "2024-10-20T21:21:36.197792Z",
     "shell.execute_reply": "2024-10-20T21:21:36.196653Z"
    },
    "papermill": {
     "duration": 0.026736,
     "end_time": "2024-10-20T21:21:36.200221",
     "exception": false,
     "start_time": "2024-10-20T21:21:36.173485",
     "status": "completed"
    },
    "tags": []
   },
   "outputs": [
    {
     "name": "stdout",
     "output_type": "stream",
     "text": [
      "Splitting 91 candies\n",
      "Splitting 1 candies\n"
     ]
    },
    {
     "data": {
      "text/plain": [
       "1"
      ]
     },
     "execution_count": 6,
     "metadata": {},
     "output_type": "execute_result"
    }
   ],
   "source": [
    "def to_smash(total_candies):\n",
    "    \"\"\"Return the number of leftover candies that must be smashed after distributing\n",
    "    the given number of candies evenly between 3 friends.\n",
    "    \n",
    "    >>> to_smash(91)\n",
    "    1\n",
    "    \"\"\"\n",
    "    print(\"Splitting\", total_candies, \"candies\")\n",
    "    return total_candies % 3\n",
    "\n",
    "to_smash(91)\n",
    "to_smash(1)"
   ]
  },
  {
   "cell_type": "markdown",
   "id": "dd0af627",
   "metadata": {
    "papermill": {
     "duration": 0.01316,
     "end_time": "2024-10-20T21:21:36.227123",
     "exception": false,
     "start_time": "2024-10-20T21:21:36.213963",
     "status": "completed"
    },
    "tags": []
   },
   "source": [
    "To get credit for completing this problem, and to see the official answer, run the code cell below."
   ]
  },
  {
   "cell_type": "code",
   "execution_count": 7,
   "id": "63812c35",
   "metadata": {
    "execution": {
     "iopub.execute_input": "2024-10-20T21:21:36.255715Z",
     "iopub.status.busy": "2024-10-20T21:21:36.255305Z",
     "iopub.status.idle": "2024-10-20T21:21:36.260036Z",
     "shell.execute_reply": "2024-10-20T21:21:36.258947Z"
    },
    "papermill": {
     "duration": 0.021857,
     "end_time": "2024-10-20T21:21:36.262441",
     "exception": false,
     "start_time": "2024-10-20T21:21:36.240584",
     "status": "completed"
    },
    "tags": []
   },
   "outputs": [],
   "source": [
    "# Check your answer (Run this code cell to receive credit!)\n",
    "# q2.solution()"
   ]
  },
  {
   "cell_type": "markdown",
   "id": "13f54dc0",
   "metadata": {
    "papermill": {
     "duration": 0.013242,
     "end_time": "2024-10-20T21:21:36.289373",
     "exception": false,
     "start_time": "2024-10-20T21:21:36.276131",
     "status": "completed"
    },
    "tags": []
   },
   "source": [
    "# 3. <span title=\"A bit spicy\" style=\"color: darkgreen \">🌶️</span>\n",
    "\n",
    "In the tutorial, we talked about deciding whether we're prepared for the weather. I said that I'm safe from today's weather if...\n",
    "- I have an umbrella...\n",
    "- or if the rain isn't too heavy and I have a hood...\n",
    "- otherwise, I'm still fine unless it's raining *and* it's a workday\n",
    "\n",
    "The function below uses our first attempt at turning this logic into a Python expression. I claimed that there was a bug in that code. Can you find it?\n",
    "\n",
    "To prove that `prepared_for_weather` is buggy, come up with a set of inputs where either:\n",
    "- the function returns `False` (but should have returned `True`), or\n",
    "- the function returned `True` (but should have returned `False`).\n",
    "\n",
    "To get credit for completing this question, your code should return a <font color='#33cc33'>Correct</font> result."
   ]
  },
  {
   "cell_type": "code",
   "execution_count": 8,
   "id": "0678d763",
   "metadata": {
    "execution": {
     "iopub.execute_input": "2024-10-20T21:21:36.318668Z",
     "iopub.status.busy": "2024-10-20T21:21:36.317596Z",
     "iopub.status.idle": "2024-10-20T21:21:36.330894Z",
     "shell.execute_reply": "2024-10-20T21:21:36.329823Z"
    },
    "papermill": {
     "duration": 0.030479,
     "end_time": "2024-10-20T21:21:36.333517",
     "exception": false,
     "start_time": "2024-10-20T21:21:36.303038",
     "status": "completed"
    },
    "tags": []
   },
   "outputs": [
    {
     "name": "stdout",
     "output_type": "stream",
     "text": [
      "False\n"
     ]
    },
    {
     "data": {
      "application/javascript": [
       "parent.postMessage({\"jupyterEvent\": \"custom.exercise_interaction\", \"data\": {\"outcomeType\": 1, \"valueTowardsCompletion\": 0.2, \"interactionType\": 1, \"questionType\": 1, \"questionId\": \"3_WeatherDebug\", \"learnToolsVersion\": \"0.3.4\", \"failureMessage\": \"\", \"exceptionClass\": \"\", \"trace\": \"\"}}, \"*\")"
      ],
      "text/plain": [
       "<IPython.core.display.Javascript object>"
      ]
     },
     "metadata": {},
     "output_type": "display_data"
    },
    {
     "data": {
      "text/markdown": [
       "<span style=\"color:#33cc33\">Correct:</span> \n",
       "\n",
       "One example of a failing test case is:\n",
       "\n",
       "```python\n",
       "have_umbrella = False\n",
       "rain_level = 0.0\n",
       "have_hood = False\n",
       "is_workday = False\n",
       "```\n",
       "\n",
       "Clearly we're prepared for the weather in this case. It's not raining. Not only that, it's not a workday, so we don't even need to leave the house! But our function will return False on these inputs.\n",
       "\n",
       "The key problem is that Python implictly parenthesizes the last part as:\n",
       "\n",
       "```python\n",
       "(not (rain_level > 0)) and is_workday\n",
       "```\n",
       "\n",
       "Whereas what we were trying to express would look more like:\n",
       "\n",
       "```python\n",
       "not (rain_level > 0 and is_workday)\n",
       "```\n"
      ],
      "text/plain": [
       "Correct: \n",
       "\n",
       "One example of a failing test case is:\n",
       "\n",
       "```python\n",
       "have_umbrella = False\n",
       "rain_level = 0.0\n",
       "have_hood = False\n",
       "is_workday = False\n",
       "```\n",
       "\n",
       "Clearly we're prepared for the weather in this case. It's not raining. Not only that, it's not a workday, so we don't even need to leave the house! But our function will return False on these inputs.\n",
       "\n",
       "The key problem is that Python implictly parenthesizes the last part as:\n",
       "\n",
       "```python\n",
       "(not (rain_level > 0)) and is_workday\n",
       "```\n",
       "\n",
       "Whereas what we were trying to express would look more like:\n",
       "\n",
       "```python\n",
       "not (rain_level > 0 and is_workday)\n",
       "```"
      ]
     },
     "metadata": {},
     "output_type": "display_data"
    }
   ],
   "source": [
    "def prepared_for_weather(have_umbrella, rain_level, have_hood, is_workday):\n",
    "    # Don't change this code. Our goal is just to find the bug, not fix it!\n",
    "    return have_umbrella or rain_level < 5 and have_hood or not rain_level > 0 and is_workday\n",
    "\n",
    "# Change the values of these inputs so they represent a case where prepared_for_weather\n",
    "# returns the wrong answer.\n",
    "have_umbrella = False\n",
    "rain_level = 7\n",
    "have_hood = -1\n",
    "is_workday = False\n",
    "\n",
    "# Check what the function returns given the current values of the variables above\n",
    "actual = prepared_for_weather(have_umbrella, rain_level, have_hood, is_workday)\n",
    "print(actual)\n",
    "\n",
    "# Check your answer\n",
    "q3.check()"
   ]
  },
  {
   "cell_type": "code",
   "execution_count": 9,
   "id": "92e577ec",
   "metadata": {
    "execution": {
     "iopub.execute_input": "2024-10-20T21:21:36.362924Z",
     "iopub.status.busy": "2024-10-20T21:21:36.362453Z",
     "iopub.status.idle": "2024-10-20T21:21:36.367261Z",
     "shell.execute_reply": "2024-10-20T21:21:36.366051Z"
    },
    "papermill": {
     "duration": 0.022665,
     "end_time": "2024-10-20T21:21:36.369970",
     "exception": false,
     "start_time": "2024-10-20T21:21:36.347305",
     "status": "completed"
    },
    "tags": []
   },
   "outputs": [],
   "source": [
    "#q3.hint()\n",
    "#q3.solution()"
   ]
  },
  {
   "cell_type": "markdown",
   "id": "e651cbb7",
   "metadata": {
    "papermill": {
     "duration": 0.013934,
     "end_time": "2024-10-20T21:21:36.397972",
     "exception": false,
     "start_time": "2024-10-20T21:21:36.384038",
     "status": "completed"
    },
    "tags": []
   },
   "source": [
    "# 4.\n",
    "\n",
    "The function `is_negative` below is implemented correctly - it returns True if the given number is negative and False otherwise.\n",
    "\n",
    "However, it's more verbose than it needs to be. We can actually reduce the number of lines of code in this function by *75%* while keeping the same behaviour. \n",
    "\n",
    "See if you can come up with an equivalent body that uses just **one line** of code, and put it in the function `concise_is_negative`. (HINT: you don't even need Python's ternary syntax)"
   ]
  },
  {
   "cell_type": "code",
   "execution_count": 10,
   "id": "4b785fc3",
   "metadata": {
    "execution": {
     "iopub.execute_input": "2024-10-20T21:21:36.427490Z",
     "iopub.status.busy": "2024-10-20T21:21:36.427056Z",
     "iopub.status.idle": "2024-10-20T21:21:36.437617Z",
     "shell.execute_reply": "2024-10-20T21:21:36.436538Z"
    },
    "papermill": {
     "duration": 0.028576,
     "end_time": "2024-10-20T21:21:36.440470",
     "exception": false,
     "start_time": "2024-10-20T21:21:36.411894",
     "status": "completed"
    },
    "tags": []
   },
   "outputs": [
    {
     "data": {
      "application/javascript": [
       "parent.postMessage({\"jupyterEvent\": \"custom.exercise_interaction\", \"data\": {\"outcomeType\": 1, \"valueTowardsCompletion\": 0.2, \"interactionType\": 1, \"questionType\": 2, \"questionId\": \"4_ConciseIsNegative\", \"learnToolsVersion\": \"0.3.4\", \"failureMessage\": \"\", \"exceptionClass\": \"\", \"trace\": \"\"}}, \"*\")"
      ],
      "text/plain": [
       "<IPython.core.display.Javascript object>"
      ]
     },
     "metadata": {},
     "output_type": "display_data"
    },
    {
     "data": {
      "text/markdown": [
       "<span style=\"color:#33cc33\">Correct</span>"
      ],
      "text/plain": [
       "Correct"
      ]
     },
     "metadata": {},
     "output_type": "display_data"
    }
   ],
   "source": [
    "def is_negative(number):\n",
    "    if number < 0:\n",
    "        return True\n",
    "    else:\n",
    "        return False\n",
    "\n",
    "def concise_is_negative(number):\n",
    "    return True if number < 0 else False\n",
    "\n",
    "# Check your answer\n",
    "q4.check()"
   ]
  },
  {
   "cell_type": "code",
   "execution_count": 11,
   "id": "fa508858",
   "metadata": {
    "execution": {
     "iopub.execute_input": "2024-10-20T21:21:36.471167Z",
     "iopub.status.busy": "2024-10-20T21:21:36.470691Z",
     "iopub.status.idle": "2024-10-20T21:21:36.475616Z",
     "shell.execute_reply": "2024-10-20T21:21:36.474412Z"
    },
    "papermill": {
     "duration": 0.023272,
     "end_time": "2024-10-20T21:21:36.478298",
     "exception": false,
     "start_time": "2024-10-20T21:21:36.455026",
     "status": "completed"
    },
    "tags": []
   },
   "outputs": [],
   "source": [
    "#q4.hint()\n",
    "#q4.solution()"
   ]
  },
  {
   "cell_type": "markdown",
   "id": "b61059ee",
   "metadata": {
    "papermill": {
     "duration": 0.014126,
     "end_time": "2024-10-20T21:21:36.507424",
     "exception": false,
     "start_time": "2024-10-20T21:21:36.493298",
     "status": "completed"
    },
    "tags": []
   },
   "source": [
    "# 5a.\n",
    "\n",
    "The boolean variables `ketchup`, `mustard` and `onion` represent whether a customer wants a particular topping on their hot dog. We want to implement a number of boolean functions that correspond to some yes-or-no questions about the customer's order. For example:"
   ]
  },
  {
   "cell_type": "code",
   "execution_count": 12,
   "id": "ad77b4ec",
   "metadata": {
    "execution": {
     "iopub.execute_input": "2024-10-20T21:21:36.538277Z",
     "iopub.status.busy": "2024-10-20T21:21:36.537874Z",
     "iopub.status.idle": "2024-10-20T21:21:36.543930Z",
     "shell.execute_reply": "2024-10-20T21:21:36.542768Z"
    },
    "papermill": {
     "duration": 0.024816,
     "end_time": "2024-10-20T21:21:36.546706",
     "exception": false,
     "start_time": "2024-10-20T21:21:36.521890",
     "status": "completed"
    },
    "tags": []
   },
   "outputs": [],
   "source": [
    "def onionless(ketchup, mustard, onion):\n",
    "    \"\"\"Return whether the customer doesn't want onions.\n",
    "    \"\"\"\n",
    "    return not onion"
   ]
  },
  {
   "cell_type": "code",
   "execution_count": 13,
   "id": "43dac020",
   "metadata": {
    "execution": {
     "iopub.execute_input": "2024-10-20T21:21:36.578916Z",
     "iopub.status.busy": "2024-10-20T21:21:36.578425Z",
     "iopub.status.idle": "2024-10-20T21:21:36.588873Z",
     "shell.execute_reply": "2024-10-20T21:21:36.587610Z"
    },
    "papermill": {
     "duration": 0.030369,
     "end_time": "2024-10-20T21:21:36.591276",
     "exception": false,
     "start_time": "2024-10-20T21:21:36.560907",
     "status": "completed"
    },
    "tags": []
   },
   "outputs": [
    {
     "data": {
      "application/javascript": [
       "parent.postMessage({\"jupyterEvent\": \"custom.exercise_interaction\", \"data\": {\"outcomeType\": 1, \"valueTowardsCompletion\": 0.2, \"interactionType\": 1, \"questionType\": 2, \"questionId\": \"5.1_AllToppings\", \"learnToolsVersion\": \"0.3.4\", \"failureMessage\": \"\", \"exceptionClass\": \"\", \"trace\": \"\"}}, \"*\")"
      ],
      "text/plain": [
       "<IPython.core.display.Javascript object>"
      ]
     },
     "metadata": {},
     "output_type": "display_data"
    },
    {
     "data": {
      "text/markdown": [
       "<span style=\"color:#33cc33\">Correct</span>"
      ],
      "text/plain": [
       "Correct"
      ]
     },
     "metadata": {},
     "output_type": "display_data"
    }
   ],
   "source": [
    "def wants_all_toppings(ketchup, mustard, onion):\n",
    "    \"\"\"Return whether the customer wants \"the works\" (all 3 toppings)\n",
    "    \"\"\"\n",
    "    return ketchup and mustard and onion\n",
    "\n",
    "# Check your answer\n",
    "q5.a.check()"
   ]
  },
  {
   "cell_type": "code",
   "execution_count": 14,
   "id": "7c2c29c2",
   "metadata": {
    "execution": {
     "iopub.execute_input": "2024-10-20T21:21:36.622115Z",
     "iopub.status.busy": "2024-10-20T21:21:36.621671Z",
     "iopub.status.idle": "2024-10-20T21:21:36.626772Z",
     "shell.execute_reply": "2024-10-20T21:21:36.625589Z"
    },
    "papermill": {
     "duration": 0.02342,
     "end_time": "2024-10-20T21:21:36.629363",
     "exception": false,
     "start_time": "2024-10-20T21:21:36.605943",
     "status": "completed"
    },
    "tags": []
   },
   "outputs": [],
   "source": [
    "# q5.a.hint()\n",
    "# q5.a.solution()"
   ]
  },
  {
   "cell_type": "markdown",
   "id": "60f51282",
   "metadata": {
    "papermill": {
     "duration": 0.014904,
     "end_time": "2024-10-20T21:21:36.659088",
     "exception": false,
     "start_time": "2024-10-20T21:21:36.644184",
     "status": "completed"
    },
    "tags": []
   },
   "source": [
    "# 5b.\n",
    "\n",
    "For the next function, fill in the body to match the English description in the docstring. "
   ]
  },
  {
   "cell_type": "code",
   "execution_count": 15,
   "id": "463bb1f5",
   "metadata": {
    "execution": {
     "iopub.execute_input": "2024-10-20T21:21:36.690417Z",
     "iopub.status.busy": "2024-10-20T21:21:36.689907Z",
     "iopub.status.idle": "2024-10-20T21:21:36.700526Z",
     "shell.execute_reply": "2024-10-20T21:21:36.699430Z"
    },
    "papermill": {
     "duration": 0.02929,
     "end_time": "2024-10-20T21:21:36.703201",
     "exception": false,
     "start_time": "2024-10-20T21:21:36.673911",
     "status": "completed"
    },
    "tags": []
   },
   "outputs": [
    {
     "data": {
      "application/javascript": [
       "parent.postMessage({\"jupyterEvent\": \"custom.exercise_interaction\", \"data\": {\"outcomeType\": 1, \"valueTowardsCompletion\": 0.2, \"interactionType\": 1, \"questionType\": 2, \"questionId\": \"5.2_PlainDog\", \"learnToolsVersion\": \"0.3.4\", \"failureMessage\": \"\", \"exceptionClass\": \"\", \"trace\": \"\"}}, \"*\")"
      ],
      "text/plain": [
       "<IPython.core.display.Javascript object>"
      ]
     },
     "metadata": {},
     "output_type": "display_data"
    },
    {
     "data": {
      "text/markdown": [
       "<span style=\"color:#33cc33\">Correct:</span> \n",
       "\n",
       "One solution looks like:\n",
       "```python\n",
       "return not ketchup and not mustard and not onion\n",
       "```\n",
       "\n",
       "We can also [\"factor out\" the nots](https://en.wikipedia.org/wiki/De_Morgan%27s_laws) to get:\n",
       "\n",
       "```python\n",
       "return not (ketchup or mustard or onion)\n",
       "```"
      ],
      "text/plain": [
       "Correct: \n",
       "\n",
       "One solution looks like:\n",
       "```python\n",
       "return not ketchup and not mustard and not onion\n",
       "```\n",
       "\n",
       "We can also [\"factor out\" the nots](https://en.wikipedia.org/wiki/De_Morgan%27s_laws) to get:\n",
       "\n",
       "```python\n",
       "return not (ketchup or mustard or onion)\n",
       "```"
      ]
     },
     "metadata": {},
     "output_type": "display_data"
    }
   ],
   "source": [
    "def wants_plain_hotdog(ketchup, mustard, onion):\n",
    "    \"\"\"Return whether the customer wants a plain hot dog with no toppings.\n",
    "    \"\"\"\n",
    "    return not ketchup and not mustard and not onion\n",
    "\n",
    "# Check your answer\n",
    "q5.b.check()"
   ]
  },
  {
   "cell_type": "code",
   "execution_count": 16,
   "id": "8ade9a04",
   "metadata": {
    "execution": {
     "iopub.execute_input": "2024-10-20T21:21:36.735228Z",
     "iopub.status.busy": "2024-10-20T21:21:36.734794Z",
     "iopub.status.idle": "2024-10-20T21:21:36.740004Z",
     "shell.execute_reply": "2024-10-20T21:21:36.738703Z"
    },
    "papermill": {
     "duration": 0.024377,
     "end_time": "2024-10-20T21:21:36.742515",
     "exception": false,
     "start_time": "2024-10-20T21:21:36.718138",
     "status": "completed"
    },
    "tags": []
   },
   "outputs": [],
   "source": [
    "#q5.b.hint()\n",
    "#q5.b.solution()"
   ]
  },
  {
   "cell_type": "markdown",
   "id": "50108170",
   "metadata": {
    "papermill": {
     "duration": 0.01452,
     "end_time": "2024-10-20T21:21:36.772034",
     "exception": false,
     "start_time": "2024-10-20T21:21:36.757514",
     "status": "completed"
    },
    "tags": []
   },
   "source": [
    "# 5c.\n",
    "\n",
    "You know what to do: for the next function, fill in the body to match the English description in the docstring."
   ]
  },
  {
   "cell_type": "code",
   "execution_count": 17,
   "id": "c51e70e7",
   "metadata": {
    "execution": {
     "iopub.execute_input": "2024-10-20T21:21:36.803708Z",
     "iopub.status.busy": "2024-10-20T21:21:36.803242Z",
     "iopub.status.idle": "2024-10-20T21:21:36.813904Z",
     "shell.execute_reply": "2024-10-20T21:21:36.812788Z"
    },
    "papermill": {
     "duration": 0.029435,
     "end_time": "2024-10-20T21:21:36.816359",
     "exception": false,
     "start_time": "2024-10-20T21:21:36.786924",
     "status": "completed"
    },
    "tags": []
   },
   "outputs": [
    {
     "data": {
      "application/javascript": [
       "parent.postMessage({\"jupyterEvent\": \"custom.exercise_interaction\", \"data\": {\"outcomeType\": 1, \"valueTowardsCompletion\": 0.2, \"interactionType\": 1, \"questionType\": 2, \"questionId\": \"5.3_OneSauce\", \"learnToolsVersion\": \"0.3.4\", \"failureMessage\": \"\", \"exceptionClass\": \"\", \"trace\": \"\"}}, \"*\")"
      ],
      "text/plain": [
       "<IPython.core.display.Javascript object>"
      ]
     },
     "metadata": {},
     "output_type": "display_data"
    },
    {
     "data": {
      "text/markdown": [
       "<span style=\"color:#33cc33\">Correct</span>"
      ],
      "text/plain": [
       "Correct"
      ]
     },
     "metadata": {},
     "output_type": "display_data"
    }
   ],
   "source": [
    "def exactly_one_sauce(ketchup, mustard, onion):\n",
    "    \"\"\"Return whether the customer wants either ketchup or mustard, but not both.\n",
    "    (You may be familiar with this operation under the name \"exclusive or\")\n",
    "    \"\"\"\n",
    "    return (not ketchup or not mustard) and onion\n",
    "\n",
    "# Check your answer\n",
    "q5.c.check()"
   ]
  },
  {
   "cell_type": "code",
   "execution_count": 18,
   "id": "f7eddc14",
   "metadata": {
    "execution": {
     "iopub.execute_input": "2024-10-20T21:21:36.848548Z",
     "iopub.status.busy": "2024-10-20T21:21:36.848100Z",
     "iopub.status.idle": "2024-10-20T21:21:36.852768Z",
     "shell.execute_reply": "2024-10-20T21:21:36.851677Z"
    },
    "papermill": {
     "duration": 0.023591,
     "end_time": "2024-10-20T21:21:36.855166",
     "exception": false,
     "start_time": "2024-10-20T21:21:36.831575",
     "status": "completed"
    },
    "tags": []
   },
   "outputs": [],
   "source": [
    "#q5.c.hint()\n",
    "#q5.c.solution()"
   ]
  },
  {
   "cell_type": "markdown",
   "id": "9f56b9fb",
   "metadata": {
    "papermill": {
     "duration": 0.01577,
     "end_time": "2024-10-20T21:21:36.886122",
     "exception": false,
     "start_time": "2024-10-20T21:21:36.870352",
     "status": "completed"
    },
    "tags": []
   },
   "source": [
    "# 6. <span title=\"A bit spicy\" style=\"color: darkgreen \">🌶️</span>\n",
    "\n",
    "We’ve seen that calling `bool()` on an integer returns `False` if it’s equal to 0 and `True` otherwise. What happens if we call `int()` on a bool? Try it out in the notebook cell below.\n",
    "\n",
    "Can you take advantage of this to write a succinct function that corresponds to the English sentence \"does the customer want exactly one topping?\"?"
   ]
  },
  {
   "cell_type": "code",
   "execution_count": 19,
   "id": "7164044f",
   "metadata": {
    "execution": {
     "iopub.execute_input": "2024-10-20T21:21:36.919516Z",
     "iopub.status.busy": "2024-10-20T21:21:36.919086Z",
     "iopub.status.idle": "2024-10-20T21:21:36.930523Z",
     "shell.execute_reply": "2024-10-20T21:21:36.929271Z"
    },
    "papermill": {
     "duration": 0.031283,
     "end_time": "2024-10-20T21:21:36.933151",
     "exception": false,
     "start_time": "2024-10-20T21:21:36.901868",
     "status": "completed"
    },
    "tags": []
   },
   "outputs": [
    {
     "data": {
      "application/javascript": [
       "parent.postMessage({\"jupyterEvent\": \"custom.exercise_interaction\", \"data\": {\"outcomeType\": 1, \"valueTowardsCompletion\": 0.2, \"interactionType\": 1, \"questionType\": 2, \"questionId\": \"6_OneTopping\", \"learnToolsVersion\": \"0.3.4\", \"failureMessage\": \"\", \"exceptionClass\": \"\", \"trace\": \"\"}}, \"*\")"
      ],
      "text/plain": [
       "<IPython.core.display.Javascript object>"
      ]
     },
     "metadata": {},
     "output_type": "display_data"
    },
    {
     "data": {
      "text/markdown": [
       "<span style=\"color:#33cc33\">Correct:</span> \n",
       "\n",
       "This condition would be pretty complicated to express using just `and`, `or` and `not`, but using boolean-to-integer conversion gives us this short solution:\n",
       "```python\n",
       "return (int(ketchup) + int(mustard) + int(onion)) == 1\n",
       "```\n",
       "\n",
       "Fun fact: we don't technically need to call `int` on the arguments. Just by doing addition with booleans, Python implicitly does the integer conversion. So we could also write...\n",
       "\n",
       "```python\n",
       "return (ketchup + mustard + onion) == 1\n",
       "```"
      ],
      "text/plain": [
       "Correct: \n",
       "\n",
       "This condition would be pretty complicated to express using just `and`, `or` and `not`, but using boolean-to-integer conversion gives us this short solution:\n",
       "```python\n",
       "return (int(ketchup) + int(mustard) + int(onion)) == 1\n",
       "```\n",
       "\n",
       "Fun fact: we don't technically need to call `int` on the arguments. Just by doing addition with booleans, Python implicitly does the integer conversion. So we could also write...\n",
       "\n",
       "```python\n",
       "return (ketchup + mustard + onion) == 1\n",
       "```"
      ]
     },
     "metadata": {},
     "output_type": "display_data"
    }
   ],
   "source": [
    "def exactly_one_topping(ketchup, mustard, onion):\n",
    "    \"\"\"Return whether the customer wants exactly one of the three available toppings\n",
    "    on their hot dog.\n",
    "    \"\"\"\n",
    "    return (ketchup + mustard + onion) == 1\n",
    "\n",
    "# Check your answer\n",
    "q6.check()"
   ]
  },
  {
   "cell_type": "code",
   "execution_count": 20,
   "id": "5b119ef1",
   "metadata": {
    "execution": {
     "iopub.execute_input": "2024-10-20T21:21:36.966770Z",
     "iopub.status.busy": "2024-10-20T21:21:36.966304Z",
     "iopub.status.idle": "2024-10-20T21:21:36.971243Z",
     "shell.execute_reply": "2024-10-20T21:21:36.970010Z"
    },
    "papermill": {
     "duration": 0.024727,
     "end_time": "2024-10-20T21:21:36.973562",
     "exception": false,
     "start_time": "2024-10-20T21:21:36.948835",
     "status": "completed"
    },
    "tags": []
   },
   "outputs": [],
   "source": [
    "# q6.hint()\n",
    "# q6.solution()"
   ]
  },
  {
   "cell_type": "markdown",
   "id": "4b59b542",
   "metadata": {
    "papermill": {
     "duration": 0.015396,
     "end_time": "2024-10-20T21:21:37.005041",
     "exception": false,
     "start_time": "2024-10-20T21:21:36.989645",
     "status": "completed"
    },
    "tags": []
   },
   "source": [
    "# 7. <span title=\"A bit spicy\" style=\"color: darkgreen \">🌶️</span> (Optional)\n",
    "\n",
    "In this problem we'll be working with a simplified version of [blackjack](https://en.wikipedia.org/wiki/Blackjack) (aka twenty-one). In this version there is one player (who you'll control) and a dealer. Play proceeds as follows:\n",
    "\n",
    "- The player is dealt two face-up cards. The dealer is dealt one face-up card.\n",
    "- The player may ask to be dealt another card ('hit') as many times as they wish. If the sum of their cards exceeds 21, they lose the round immediately.\n",
    "- The dealer then deals additional cards to himself until either:\n",
    "    - the sum of the dealer's cards exceeds 21, in which case the player wins the round\n",
    "    - the sum of the dealer's cards is greater than or equal to 17. If the player's total is greater than the dealer's, the player wins. Otherwise, the dealer wins (even in case of a tie).\n",
    "    \n",
    "When calculating the sum of cards, Jack, Queen, and King count for 10. Aces can count as 1 or 11 (when referring to a player's \"total\" above, we mean the largest total that can be made without exceeding 21. So e.g. A+8 = 19, A+8+8 = 17)\n",
    "\n",
    "For this problem, you'll write a function representing the player's decision-making strategy in this game. We've provided a very unintelligent implementation below:"
   ]
  },
  {
   "cell_type": "code",
   "execution_count": 21,
   "id": "68cc4410",
   "metadata": {
    "execution": {
     "iopub.execute_input": "2024-10-20T21:21:37.039136Z",
     "iopub.status.busy": "2024-10-20T21:21:37.037705Z",
     "iopub.status.idle": "2024-10-20T21:21:37.044850Z",
     "shell.execute_reply": "2024-10-20T21:21:37.043463Z"
    },
    "papermill": {
     "duration": 0.026768,
     "end_time": "2024-10-20T21:21:37.047469",
     "exception": false,
     "start_time": "2024-10-20T21:21:37.020701",
     "status": "completed"
    },
    "tags": []
   },
   "outputs": [],
   "source": [
    "def should_hit(dealer_total, player_total, player_low_aces, player_high_aces):\n",
    "    \"\"\"Return True if the player should hit (request another card) given the current game\n",
    "    state, or False if the player should stay.\n",
    "    When calculating a hand's total value, we count aces as \"high\" (with value 11) if doing so\n",
    "    doesn't bring the total above 21, otherwise we count them as low (with value 1). \n",
    "    For example, if the player's hand is {A, A, A, 7}, we will count it as 11 + 1 + 1 + 7,\n",
    "    and therefore set player_total=20, player_low_aces=2, player_high_aces=1.\n",
    "    \"\"\"\n",
    "    return False"
   ]
  },
  {
   "cell_type": "markdown",
   "id": "0ce50d08",
   "metadata": {
    "papermill": {
     "duration": 0.015867,
     "end_time": "2024-10-20T21:21:37.080142",
     "exception": false,
     "start_time": "2024-10-20T21:21:37.064275",
     "status": "completed"
    },
    "tags": []
   },
   "source": [
    "This very conservative agent *always* sticks with the hand of two cards that they're dealt.\n",
    "\n",
    "We'll be simulating games between your player agent and our own dealer agent by calling your function.\n",
    "\n",
    "Try running the function below to see an example of a simulated game:"
   ]
  },
  {
   "cell_type": "code",
   "execution_count": 22,
   "id": "335bef90",
   "metadata": {
    "execution": {
     "iopub.execute_input": "2024-10-20T21:21:37.114069Z",
     "iopub.status.busy": "2024-10-20T21:21:37.112962Z",
     "iopub.status.idle": "2024-10-20T21:21:37.119255Z",
     "shell.execute_reply": "2024-10-20T21:21:37.118234Z"
    },
    "papermill": {
     "duration": 0.026195,
     "end_time": "2024-10-20T21:21:37.122202",
     "exception": false,
     "start_time": "2024-10-20T21:21:37.096007",
     "status": "completed"
    },
    "tags": []
   },
   "outputs": [
    {
     "name": "stdout",
     "output_type": "stream",
     "text": [
      "Player starts with Q and Q (total = 20)\n",
      "Dealer starts with Q\n",
      "\n",
      "__Player's turn__\n",
      "Player stays\n",
      "\n",
      "__Dealer's turn__\n",
      "Dealer hits and receives 3. (total = 13)\n",
      "Dealer hits and receives K. (total = 23)\n",
      "Dealer busts! Player wins.\n"
     ]
    }
   ],
   "source": [
    "q7.simulate_one_game()"
   ]
  },
  {
   "cell_type": "markdown",
   "id": "d4ff6417",
   "metadata": {
    "papermill": {
     "duration": 0.016145,
     "end_time": "2024-10-20T21:21:37.154041",
     "exception": false,
     "start_time": "2024-10-20T21:21:37.137896",
     "status": "completed"
    },
    "tags": []
   },
   "source": [
    "The real test of your agent's mettle is their average win rate over many games. Try calling the function below to simulate 50000 games of blackjack (it may take a couple seconds):"
   ]
  },
  {
   "cell_type": "code",
   "execution_count": 23,
   "id": "e650523e",
   "metadata": {
    "execution": {
     "iopub.execute_input": "2024-10-20T21:21:37.188228Z",
     "iopub.status.busy": "2024-10-20T21:21:37.187426Z",
     "iopub.status.idle": "2024-10-20T21:21:39.362117Z",
     "shell.execute_reply": "2024-10-20T21:21:39.360553Z"
    },
    "papermill": {
     "duration": 2.194649,
     "end_time": "2024-10-20T21:21:39.364866",
     "exception": false,
     "start_time": "2024-10-20T21:21:37.170217",
     "status": "completed"
    },
    "tags": []
   },
   "outputs": [
    {
     "name": "stdout",
     "output_type": "stream",
     "text": [
      "Player won 19026 out of 50000 games (win rate = 38.1%)\n"
     ]
    }
   ],
   "source": [
    "q7.simulate(n_games=50000)"
   ]
  },
  {
   "cell_type": "markdown",
   "id": "f07f4213",
   "metadata": {
    "papermill": {
     "duration": 0.015963,
     "end_time": "2024-10-20T21:21:39.396634",
     "exception": false,
     "start_time": "2024-10-20T21:21:39.380671",
     "status": "completed"
    },
    "tags": []
   },
   "source": [
    "Our dumb agent that completely ignores the game state still manages to win shockingly often!\n",
    "\n",
    "Try adding some more smarts to the `should_hit` function and see how it affects the results."
   ]
  },
  {
   "cell_type": "code",
   "execution_count": 24,
   "id": "305cd44e",
   "metadata": {
    "execution": {
     "iopub.execute_input": "2024-10-20T21:21:39.430145Z",
     "iopub.status.busy": "2024-10-20T21:21:39.429695Z",
     "iopub.status.idle": "2024-10-20T21:21:41.683753Z",
     "shell.execute_reply": "2024-10-20T21:21:41.682599Z"
    },
    "papermill": {
     "duration": 2.274469,
     "end_time": "2024-10-20T21:21:41.686802",
     "exception": false,
     "start_time": "2024-10-20T21:21:39.412333",
     "status": "completed"
    },
    "tags": []
   },
   "outputs": [
    {
     "name": "stdout",
     "output_type": "stream",
     "text": [
      "Player won 19069 out of 50000 games (win rate = 38.1%)\n"
     ]
    }
   ],
   "source": [
    "def should_hit(dealer_total, player_total, player_low_aces, player_high_aces):\n",
    "    \"\"\"Return True if the player should hit (request another card) given the current game\n",
    "    state, or False if the player should stay.\n",
    "    When calculating a hand's total value, we count aces as \"high\" (with value 11) if doing so\n",
    "    doesn't bring the total above 21, otherwise we count them as low (with value 1). \n",
    "    For example, if the player's hand is {A, A, A, 7}, we will count it as 11 + 1 + 1 + 7,\n",
    "    and therefore set player_total=20, player_low_aces=2, player_high_aces=1.\n",
    "    \"\"\"\n",
    "    return False\n",
    "\n",
    "q7.simulate(n_games=50000)"
   ]
  },
  {
   "cell_type": "markdown",
   "id": "29cf861e",
   "metadata": {
    "papermill": {
     "duration": 0.015687,
     "end_time": "2024-10-20T21:21:41.718523",
     "exception": false,
     "start_time": "2024-10-20T21:21:41.702836",
     "status": "completed"
    },
    "tags": []
   },
   "source": [
    "# Keep Going\n",
    "\n",
    "Learn about **[lists and tuples](https://www.kaggle.com/colinmorris/lists)** to handle multiple items of data in a systematic way."
   ]
  },
  {
   "cell_type": "markdown",
   "id": "5afd0981",
   "metadata": {
    "papermill": {
     "duration": 0.015813,
     "end_time": "2024-10-20T21:21:41.750984",
     "exception": false,
     "start_time": "2024-10-20T21:21:41.735171",
     "status": "completed"
    },
    "tags": []
   },
   "source": [
    "---\n",
    "\n",
    "\n",
    "\n",
    "\n",
    "*Have questions or comments? Visit the [course discussion forum](https://www.kaggle.com/learn/python/discussion) to chat with other learners.*"
   ]
  }
 ],
 "metadata": {
  "kaggle": {
   "accelerator": "none",
   "dataSources": [],
   "isGpuEnabled": false,
   "isInternetEnabled": false,
   "language": "python",
   "sourceType": "notebook"
  },
  "kernelspec": {
   "display_name": "Python 3",
   "language": "python",
   "name": "python3"
  },
  "language_info": {
   "codemirror_mode": {
    "name": "ipython",
    "version": 3
   },
   "file_extension": ".py",
   "mimetype": "text/x-python",
   "name": "python",
   "nbconvert_exporter": "python",
   "pygments_lexer": "ipython3",
   "version": "3.10.14"
  },
  "learntools_metadata": {
   "lesson_index": 2,
   "type": "exercise"
  },
  "papermill": {
   "default_parameters": {},
   "duration": 10.64904,
   "end_time": "2024-10-20T21:21:42.289671",
   "environment_variables": {},
   "exception": null,
   "input_path": "__notebook__.ipynb",
   "output_path": "__notebook__.ipynb",
   "parameters": {},
   "start_time": "2024-10-20T21:21:31.640631",
   "version": "2.6.0"
  }
 },
 "nbformat": 4,
 "nbformat_minor": 5
}
