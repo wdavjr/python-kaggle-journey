{
 "cells": [
  {
   "cell_type": "markdown",
   "id": "87e2c728",
   "metadata": {
    "papermill": {
     "duration": 0.005232,
     "end_time": "2024-12-29T13:46:50.989460",
     "exception": false,
     "start_time": "2024-12-29T13:46:50.984228",
     "status": "completed"
    },
    "tags": []
   },
   "source": [
    "**This notebook is an exercise in the [Python](https://www.kaggle.com/learn/python) course.  You can reference the tutorial at [this link](https://www.kaggle.com/colinmorris/loops-and-list-comprehensions).**\n",
    "\n",
    "---\n"
   ]
  },
  {
   "cell_type": "markdown",
   "id": "eb050889",
   "metadata": {
    "papermill": {
     "duration": 0.003995,
     "end_time": "2024-12-29T13:46:50.997876",
     "exception": false,
     "start_time": "2024-12-29T13:46:50.993881",
     "status": "completed"
    },
    "tags": []
   },
   "source": [
    "With all you've learned, you can start writing much more interesting programs. See if you can solve the problems below.\n",
    "\n",
    "As always, run the setup code below before working on the questions."
   ]
  },
  {
   "cell_type": "code",
   "execution_count": 1,
   "id": "b9cdfc79",
   "metadata": {
    "execution": {
     "iopub.execute_input": "2024-12-29T13:46:51.007610Z",
     "iopub.status.busy": "2024-12-29T13:46:51.007214Z",
     "iopub.status.idle": "2024-12-29T13:46:51.441897Z",
     "shell.execute_reply": "2024-12-29T13:46:51.440812Z"
    },
    "papermill": {
     "duration": 0.441293,
     "end_time": "2024-12-29T13:46:51.443381",
     "exception": false,
     "start_time": "2024-12-29T13:46:51.002088",
     "status": "completed"
    },
    "tags": []
   },
   "outputs": [
    {
     "name": "stdout",
     "output_type": "stream",
     "text": [
      "Setup complete.\n"
     ]
    }
   ],
   "source": [
    "from learntools.core import binder; binder.bind(globals())\n",
    "from learntools.python.ex5 import *\n",
    "print('Setup complete.')"
   ]
  },
  {
   "cell_type": "markdown",
   "id": "b81213d5",
   "metadata": {
    "papermill": {
     "duration": 0.004158,
     "end_time": "2024-12-29T13:46:51.452329",
     "exception": false,
     "start_time": "2024-12-29T13:46:51.448171",
     "status": "completed"
    },
    "tags": []
   },
   "source": [
    "# 1.\n",
    "\n",
    "Have you ever felt debugging involved a bit of luck? The following program has a bug. Try to identify the bug and fix it."
   ]
  },
  {
   "cell_type": "code",
   "execution_count": 2,
   "id": "fbf001ef",
   "metadata": {
    "execution": {
     "iopub.execute_input": "2024-12-29T13:46:51.462176Z",
     "iopub.status.busy": "2024-12-29T13:46:51.461691Z",
     "iopub.status.idle": "2024-12-29T13:46:51.466891Z",
     "shell.execute_reply": "2024-12-29T13:46:51.465872Z"
    },
    "papermill": {
     "duration": 0.011912,
     "end_time": "2024-12-29T13:46:51.468480",
     "exception": false,
     "start_time": "2024-12-29T13:46:51.456568",
     "status": "completed"
    },
    "tags": []
   },
   "outputs": [],
   "source": [
    "def has_lucky_number(nums):\n",
    "    \"\"\"Return whether the given list of numbers is lucky. A lucky list contains\n",
    "    at least one number divisible by 7.\n",
    "    \"\"\"\n",
    "    for num in nums:\n",
    "        if num % 7 == 0:\n",
    "            return True\n",
    "        else:\n",
    "            return False\n",
    "        \n",
    "    "
   ]
  },
  {
   "cell_type": "markdown",
   "id": "09313f68",
   "metadata": {
    "papermill": {
     "duration": 0.004165,
     "end_time": "2024-12-29T13:46:51.477263",
     "exception": false,
     "start_time": "2024-12-29T13:46:51.473098",
     "status": "completed"
    },
    "tags": []
   },
   "source": [
    "Try to identify the bug and fix it in the cell below:"
   ]
  },
  {
   "cell_type": "code",
   "execution_count": 3,
   "id": "842a5f1a",
   "metadata": {
    "execution": {
     "iopub.execute_input": "2024-12-29T13:46:51.489947Z",
     "iopub.status.busy": "2024-12-29T13:46:51.489578Z",
     "iopub.status.idle": "2024-12-29T13:46:51.498314Z",
     "shell.execute_reply": "2024-12-29T13:46:51.497385Z"
    },
    "papermill": {
     "duration": 0.01739,
     "end_time": "2024-12-29T13:46:51.499988",
     "exception": false,
     "start_time": "2024-12-29T13:46:51.482598",
     "status": "completed"
    },
    "tags": []
   },
   "outputs": [
    {
     "data": {
      "application/javascript": [
       "parent.postMessage({\"jupyterEvent\": \"custom.exercise_interaction\", \"data\": {\"outcomeType\": 1, \"valueTowardsCompletion\": 0.25, \"interactionType\": 1, \"questionType\": 2, \"questionId\": \"1_EarlyExitDebugging\", \"learnToolsVersion\": \"0.3.4\", \"failureMessage\": \"\", \"exceptionClass\": \"\", \"trace\": \"\"}}, \"*\")"
      ],
      "text/plain": [
       "<IPython.core.display.Javascript object>"
      ]
     },
     "metadata": {},
     "output_type": "display_data"
    },
    {
     "data": {
      "text/markdown": [
       "<span style=\"color:#33cc33\">Correct:</span> \n",
       "\n",
       "Remember that `return` causes a function to exit immediately. So our original implementation always ran for just one iteration. We can only return `False` if we've looked at every element of the list (and confirmed that none of them are lucky). Though we can return early if the answer is `True`:\n",
       "\n",
       "```python\n",
       "def has_lucky_number(nums):\n",
       "    for num in nums:\n",
       "        if num % 7 == 0:\n",
       "            return True\n",
       "    # We've exhausted the list without finding a lucky number\n",
       "    return False\n",
       "```\n",
       "\n",
       "Here's a one-line version using a list comprehension with Python's `any` function (you can read about what it does by calling `help(any)`):\n",
       "\n",
       "```python\n",
       "def has_lucky_number(nums):\n",
       "    return any([num % 7 == 0 for num in nums])\n",
       "```\n"
      ],
      "text/plain": [
       "Correct: \n",
       "\n",
       "Remember that `return` causes a function to exit immediately. So our original implementation always ran for just one iteration. We can only return `False` if we've looked at every element of the list (and confirmed that none of them are lucky). Though we can return early if the answer is `True`:\n",
       "\n",
       "```python\n",
       "def has_lucky_number(nums):\n",
       "    for num in nums:\n",
       "        if num % 7 == 0:\n",
       "            return True\n",
       "    # We've exhausted the list without finding a lucky number\n",
       "    return False\n",
       "```\n",
       "\n",
       "Here's a one-line version using a list comprehension with Python's `any` function (you can read about what it does by calling `help(any)`):\n",
       "\n",
       "```python\n",
       "def has_lucky_number(nums):\n",
       "    return any([num % 7 == 0 for num in nums])\n",
       "```"
      ]
     },
     "metadata": {},
     "output_type": "display_data"
    }
   ],
   "source": [
    "def has_lucky_number(nums):\n",
    "    \"\"\"Return whether the given list of numbers is lucky. A lucky list contains\n",
    "    at least one number divisible by 7.\n",
    "    \"\"\"\n",
    "    for num in nums:\n",
    "        if num % 7 == 0:\n",
    "            return True\n",
    "    return False\n",
    "\n",
    "# Check your answer\n",
    "q1.check()"
   ]
  },
  {
   "cell_type": "code",
   "execution_count": 4,
   "id": "9c6a90ca",
   "metadata": {
    "execution": {
     "iopub.execute_input": "2024-12-29T13:46:51.510608Z",
     "iopub.status.busy": "2024-12-29T13:46:51.510257Z",
     "iopub.status.idle": "2024-12-29T13:46:51.513924Z",
     "shell.execute_reply": "2024-12-29T13:46:51.512942Z"
    },
    "papermill": {
     "duration": 0.010575,
     "end_time": "2024-12-29T13:46:51.515404",
     "exception": false,
     "start_time": "2024-12-29T13:46:51.504829",
     "status": "completed"
    },
    "tags": []
   },
   "outputs": [],
   "source": [
    "# q1.hint()\n",
    "# q1.solution()"
   ]
  },
  {
   "cell_type": "markdown",
   "id": "30fbeb33",
   "metadata": {
    "papermill": {
     "duration": 0.00434,
     "end_time": "2024-12-29T13:46:51.524556",
     "exception": false,
     "start_time": "2024-12-29T13:46:51.520216",
     "status": "completed"
    },
    "tags": []
   },
   "source": [
    "# 2.\n",
    "Look at the Python expression below. What do you think we'll get when we run it? When you've made your prediction, uncomment the code and run the cell to see if you were right."
   ]
  },
  {
   "cell_type": "code",
   "execution_count": 5,
   "id": "fd28749b",
   "metadata": {
    "execution": {
     "iopub.execute_input": "2024-12-29T13:46:51.535009Z",
     "iopub.status.busy": "2024-12-29T13:46:51.534648Z",
     "iopub.status.idle": "2024-12-29T13:46:51.538479Z",
     "shell.execute_reply": "2024-12-29T13:46:51.537508Z"
    },
    "papermill": {
     "duration": 0.010975,
     "end_time": "2024-12-29T13:46:51.540107",
     "exception": false,
     "start_time": "2024-12-29T13:46:51.529132",
     "status": "completed"
    },
    "tags": []
   },
   "outputs": [],
   "source": [
    "# [1, 2, 3, 4] > 2"
   ]
  },
  {
   "cell_type": "markdown",
   "id": "2490cf2e",
   "metadata": {
    "papermill": {
     "duration": 0.004562,
     "end_time": "2024-12-29T13:46:51.549563",
     "exception": false,
     "start_time": "2024-12-29T13:46:51.545001",
     "status": "completed"
    },
    "tags": []
   },
   "source": [
    "R and Python have some libraries (like numpy and pandas) compare each element of the list to 2 (i.e. do an 'element-wise' comparison) and give us a list of booleans like `[False, False, True, True]`. \n",
    "\n",
    "Implement a function that reproduces this behaviour, returning a list of booleans corresponding to whether the corresponding element is greater than n."
   ]
  },
  {
   "cell_type": "code",
   "execution_count": 6,
   "id": "df057633",
   "metadata": {
    "execution": {
     "iopub.execute_input": "2024-12-29T13:46:51.560153Z",
     "iopub.status.busy": "2024-12-29T13:46:51.559754Z",
     "iopub.status.idle": "2024-12-29T13:46:51.567969Z",
     "shell.execute_reply": "2024-12-29T13:46:51.567001Z"
    },
    "papermill": {
     "duration": 0.01528,
     "end_time": "2024-12-29T13:46:51.569519",
     "exception": false,
     "start_time": "2024-12-29T13:46:51.554239",
     "status": "completed"
    },
    "tags": []
   },
   "outputs": [
    {
     "data": {
      "application/javascript": [
       "parent.postMessage({\"jupyterEvent\": \"custom.exercise_interaction\", \"data\": {\"outcomeType\": 1, \"valueTowardsCompletion\": 0.25, \"interactionType\": 1, \"questionType\": 2, \"questionId\": \"2_ElementWiseComparison\", \"learnToolsVersion\": \"0.3.4\", \"failureMessage\": \"\", \"exceptionClass\": \"\", \"trace\": \"\"}}, \"*\")"
      ],
      "text/plain": [
       "<IPython.core.display.Javascript object>"
      ]
     },
     "metadata": {},
     "output_type": "display_data"
    },
    {
     "data": {
      "text/markdown": [
       "<span style=\"color:#33cc33\">Correct:</span> \n",
       "\n",
       "Here's one solution:\n",
       "```python\n",
       "def elementwise_greater_than(L, thresh):\n",
       "    res = []\n",
       "    for ele in L:\n",
       "        res.append(ele > thresh)\n",
       "    return res\n",
       "```\n",
       "\n",
       "And here's the list comprehension version:\n",
       "```python\n",
       "def elementwise_greater_than(L, thresh):\n",
       "    return [ele > thresh for ele in L]\n",
       "```\n"
      ],
      "text/plain": [
       "Correct: \n",
       "\n",
       "Here's one solution:\n",
       "```python\n",
       "def elementwise_greater_than(L, thresh):\n",
       "    res = []\n",
       "    for ele in L:\n",
       "        res.append(ele > thresh)\n",
       "    return res\n",
       "```\n",
       "\n",
       "And here's the list comprehension version:\n",
       "```python\n",
       "def elementwise_greater_than(L, thresh):\n",
       "    return [ele > thresh for ele in L]\n",
       "```"
      ]
     },
     "metadata": {},
     "output_type": "display_data"
    }
   ],
   "source": [
    "def elementwise_greater_than(L, thresh):\n",
    "    \"\"\"Return a list with the same length as L, where the value at index i is \n",
    "    True if L[i] is greater than thresh, and False otherwise.\n",
    "    \n",
    "    >>> elementwise_greater_than([1, 2, 3, 4], 2)\n",
    "    [False, False, True, True]\n",
    "    \"\"\"\n",
    "    numbers = []\n",
    "    nums = L\n",
    "    \n",
    "    for i in range(len(nums)):\n",
    "        if L[i] > thresh:\n",
    "            numbers.append(True)\n",
    "        else:\n",
    "            numbers.append(False)\n",
    "            \n",
    "    return numbers\n",
    "\n",
    "elementwise_greater_than([1, 2, 3, 4], 2)    \n",
    "\n",
    "# Check your answer\n",
    "q2.check()"
   ]
  },
  {
   "cell_type": "code",
   "execution_count": 7,
   "id": "8104ea6d",
   "metadata": {
    "execution": {
     "iopub.execute_input": "2024-12-29T13:46:51.580147Z",
     "iopub.status.busy": "2024-12-29T13:46:51.579855Z",
     "iopub.status.idle": "2024-12-29T13:46:51.583262Z",
     "shell.execute_reply": "2024-12-29T13:46:51.582504Z"
    },
    "papermill": {
     "duration": 0.01046,
     "end_time": "2024-12-29T13:46:51.584809",
     "exception": false,
     "start_time": "2024-12-29T13:46:51.574349",
     "status": "completed"
    },
    "tags": []
   },
   "outputs": [],
   "source": [
    "#q2.solution()"
   ]
  },
  {
   "cell_type": "markdown",
   "id": "82e02f5f",
   "metadata": {
    "papermill": {
     "duration": 0.004559,
     "end_time": "2024-12-29T13:46:51.594193",
     "exception": false,
     "start_time": "2024-12-29T13:46:51.589634",
     "status": "completed"
    },
    "tags": []
   },
   "source": [
    "# 3.\n",
    "\n",
    "Complete the body of the function below according to its docstring."
   ]
  },
  {
   "cell_type": "code",
   "execution_count": 8,
   "id": "a2845326",
   "metadata": {
    "execution": {
     "iopub.execute_input": "2024-12-29T13:46:51.605256Z",
     "iopub.status.busy": "2024-12-29T13:46:51.604872Z",
     "iopub.status.idle": "2024-12-29T13:46:51.612763Z",
     "shell.execute_reply": "2024-12-29T13:46:51.611907Z"
    },
    "papermill": {
     "duration": 0.015339,
     "end_time": "2024-12-29T13:46:51.614297",
     "exception": false,
     "start_time": "2024-12-29T13:46:51.598958",
     "status": "completed"
    },
    "tags": []
   },
   "outputs": [
    {
     "data": {
      "application/javascript": [
       "parent.postMessage({\"jupyterEvent\": \"custom.exercise_interaction\", \"data\": {\"outcomeType\": 1, \"valueTowardsCompletion\": 0.25, \"interactionType\": 1, \"questionType\": 2, \"questionId\": \"3_BoringMenu\", \"learnToolsVersion\": \"0.3.4\", \"failureMessage\": \"\", \"exceptionClass\": \"\", \"trace\": \"\"}}, \"*\")"
      ],
      "text/plain": [
       "<IPython.core.display.Javascript object>"
      ]
     },
     "metadata": {},
     "output_type": "display_data"
    },
    {
     "data": {
      "text/markdown": [
       "<span style=\"color:#33cc33\">Correct:</span> \n",
       "\n",
       "\n",
       "\n",
       "```python\n",
       "def menu_is_boring(meals):\n",
       "    # Iterate over all indices of the list, except the last one\n",
       "    for i in range(len(meals)-1):\n",
       "        if meals[i] == meals[i+1]:\n",
       "            return True\n",
       "    return False\n",
       "```\n",
       "\n",
       "The key to our solution is the call to `range`. `range(len(meals))` would give us all the indices of `meals`. If we had used that range, the last iteration of the loop would be comparing the last element to the element after it, which is... `IndexError`! `range(len(meals)-1)` gives us all the indices except the index of the last element.\n",
       "\n",
       "But don't we need to check if `meals` is empty? Turns out that `range(0) == range(-1)` - they're both empty. So if `meals` has length 0 or 1, we just won't do any iterations of our for loop.\n"
      ],
      "text/plain": [
       "Correct: \n",
       "\n",
       "\n",
       "\n",
       "```python\n",
       "def menu_is_boring(meals):\n",
       "    # Iterate over all indices of the list, except the last one\n",
       "    for i in range(len(meals)-1):\n",
       "        if meals[i] == meals[i+1]:\n",
       "            return True\n",
       "    return False\n",
       "```\n",
       "\n",
       "The key to our solution is the call to `range`. `range(len(meals))` would give us all the indices of `meals`. If we had used that range, the last iteration of the loop would be comparing the last element to the element after it, which is... `IndexError`! `range(len(meals)-1)` gives us all the indices except the index of the last element.\n",
       "\n",
       "But don't we need to check if `meals` is empty? Turns out that `range(0) == range(-1)` - they're both empty. So if `meals` has length 0 or 1, we just won't do any iterations of our for loop."
      ]
     },
     "metadata": {},
     "output_type": "display_data"
    }
   ],
   "source": [
    "def menu_is_boring(meals):\n",
    "    \"\"\"Given a list of meals served over some period of time, return True if the\n",
    "    same meal has ever been served two days in a row, and False otherwise.\n",
    "    \"\"\"\n",
    "    for i in range(len(meals) - 1): \n",
    "        if meals[i] == meals[i + 1]: \n",
    "            return True \n",
    "    return False         \n",
    "\n",
    "# Check your answer\n",
    "q3.check()"
   ]
  },
  {
   "cell_type": "code",
   "execution_count": 9,
   "id": "6903a33d",
   "metadata": {
    "execution": {
     "iopub.execute_input": "2024-12-29T13:46:51.625879Z",
     "iopub.status.busy": "2024-12-29T13:46:51.625565Z",
     "iopub.status.idle": "2024-12-29T13:46:51.629060Z",
     "shell.execute_reply": "2024-12-29T13:46:51.628204Z"
    },
    "papermill": {
     "duration": 0.010897,
     "end_time": "2024-12-29T13:46:51.630475",
     "exception": false,
     "start_time": "2024-12-29T13:46:51.619578",
     "status": "completed"
    },
    "tags": []
   },
   "outputs": [],
   "source": [
    "# q3.hint()\n",
    "#q3.solution()"
   ]
  },
  {
   "cell_type": "markdown",
   "id": "a626e4eb",
   "metadata": {
    "papermill": {
     "duration": 0.004872,
     "end_time": "2024-12-29T13:46:51.640491",
     "exception": false,
     "start_time": "2024-12-29T13:46:51.635619",
     "status": "completed"
    },
    "tags": []
   },
   "source": [
    "# 4. <span title=\"A bit spicy\" style=\"color: darkgreen \">🌶️</span>\n",
    "\n",
    "Next to the Blackjack table, the Python Challenge Casino has a slot machine. You can get a result from the slot machine by calling `play_slot_machine()`. The number it returns is your winnings in dollars. Usually it returns 0.  But sometimes you'll get lucky and get a big payday. Try running it below:"
   ]
  },
  {
   "cell_type": "code",
   "execution_count": 10,
   "id": "6b694fb2",
   "metadata": {
    "execution": {
     "iopub.execute_input": "2024-12-29T13:46:51.651365Z",
     "iopub.status.busy": "2024-12-29T13:46:51.651060Z",
     "iopub.status.idle": "2024-12-29T13:46:51.656276Z",
     "shell.execute_reply": "2024-12-29T13:46:51.655285Z"
    },
    "papermill": {
     "duration": 0.012608,
     "end_time": "2024-12-29T13:46:51.658020",
     "exception": false,
     "start_time": "2024-12-29T13:46:51.645412",
     "status": "completed"
    },
    "tags": []
   },
   "outputs": [
    {
     "data": {
      "text/plain": [
       "1.5"
      ]
     },
     "execution_count": 10,
     "metadata": {},
     "output_type": "execute_result"
    }
   ],
   "source": [
    "play_slot_machine()"
   ]
  },
  {
   "cell_type": "markdown",
   "id": "17e77ee0",
   "metadata": {
    "papermill": {
     "duration": 0.004868,
     "end_time": "2024-12-29T13:46:51.668203",
     "exception": false,
     "start_time": "2024-12-29T13:46:51.663335",
     "status": "completed"
    },
    "tags": []
   },
   "source": [
    "By the way, did we mention that each play costs $1? Don't worry, we'll send you the bill later.\n",
    "\n",
    "On average, how much money can you expect to gain (or lose) every time you play the machine?  The casino keeps it a secret, but you can estimate the average value of each pull using a technique called the **Monte Carlo method**. To estimate the average outcome, we simulate the scenario many times, and return the average result.\n",
    "\n",
    "Complete the following function to calculate the average value per play of the slot machine."
   ]
  },
  {
   "cell_type": "code",
   "execution_count": 11,
   "id": "047dfda7",
   "metadata": {
    "execution": {
     "iopub.execute_input": "2024-12-29T13:46:51.679676Z",
     "iopub.status.busy": "2024-12-29T13:46:51.679333Z",
     "iopub.status.idle": "2024-12-29T13:46:51.683440Z",
     "shell.execute_reply": "2024-12-29T13:46:51.682457Z"
    },
    "papermill": {
     "duration": 0.011483,
     "end_time": "2024-12-29T13:46:51.685058",
     "exception": false,
     "start_time": "2024-12-29T13:46:51.673575",
     "status": "completed"
    },
    "tags": []
   },
   "outputs": [],
   "source": [
    "def estimate_average_slot_payout(n_runs):\n",
    "    \"\"\"Run the slot machine n_runs times and return the average net profit per run.\n",
    "    Example calls (note that return value is nondeterministic!):\n",
    "    >>> estimate_average_slot_payout(1)\n",
    "    -1\n",
    "    >>> estimate_average_slot_payout(1)\n",
    "    0.5\n",
    "    \"\"\"\n",
    "    pass"
   ]
  },
  {
   "cell_type": "markdown",
   "id": "f67e22a3",
   "metadata": {
    "papermill": {
     "duration": 0.005306,
     "end_time": "2024-12-29T13:46:51.695840",
     "exception": false,
     "start_time": "2024-12-29T13:46:51.690534",
     "status": "completed"
    },
    "tags": []
   },
   "source": [
    "When you think you know the expected value per spin, run the code cell below to view the solution and get credit for answering the question."
   ]
  },
  {
   "cell_type": "code",
   "execution_count": 12,
   "id": "d9eeab51",
   "metadata": {
    "execution": {
     "iopub.execute_input": "2024-12-29T13:46:51.707696Z",
     "iopub.status.busy": "2024-12-29T13:46:51.707321Z",
     "iopub.status.idle": "2024-12-29T13:46:51.714545Z",
     "shell.execute_reply": "2024-12-29T13:46:51.713727Z"
    },
    "papermill": {
     "duration": 0.015027,
     "end_time": "2024-12-29T13:46:51.716148",
     "exception": false,
     "start_time": "2024-12-29T13:46:51.701121",
     "status": "completed"
    },
    "tags": []
   },
   "outputs": [
    {
     "data": {
      "application/javascript": [
       "parent.postMessage({\"jupyterEvent\": \"custom.exercise_interaction\", \"data\": {\"interactionType\": 3, \"questionType\": 4, \"questionId\": \"4_ExpectedSlotsPayout\", \"learnToolsVersion\": \"0.3.4\", \"valueTowardsCompletion\": 0.0, \"failureMessage\": \"\", \"exceptionClass\": \"\", \"trace\": \"\", \"outcomeType\": 4}}, \"*\")"
      ],
      "text/plain": [
       "<IPython.core.display.Javascript object>"
      ]
     },
     "metadata": {},
     "output_type": "display_data"
    },
    {
     "data": {
      "text/markdown": [
       "<span style=\"color:#33cc99\">Solution:</span> \n",
       "    \n",
       "The exact expected value of one pull of the slot machine is 0.025 - i.e. a little more than 2 cents.  See?  Not every game in the Python Challenge Casino is rigged against the player!\n",
       "\n",
       "In order to get this answer, you'll need to implement the `estimate_average_slot_payout(n_runs)` function to simulate pulling the slot machine `n_runs` times.  It should return the payout averaged over those `n_runs`.\n",
       "\n",
       "Then, once the function is defined, in order to estimate the average slot payout, we need only call the function.\n",
       "\n",
       "Because of the high variance of the outcome (there are some very rare high payout results that significantly affect the average) you might need to run your function with a very high value of `n_runs` to get a stable answer close to the true expectation.  For instance, you might use a value for `n_runs` of 1000000.\n",
       "\n",
       "Here's an example for how the function could look:\n",
       "```python\n",
       "def estimate_average_slot_payout(n_runs):\n",
       "    # Play slot machine n_runs times, calculate payout of each\n",
       "    payouts = [play_slot_machine()-1 for i in range(n_runs)]\n",
       "    # Calculate the average value\n",
       "    avg_payout = sum(payouts) / n_runs\n",
       "    return avg_payout\n",
       "    \n",
       "estimate_average_slot_payout(10000000)\n",
       "\n",
       "```\n",
       "\n",
       "This should return an answer close to 0.025!\n",
       "            \n"
      ],
      "text/plain": [
       "Solution: \n",
       "    \n",
       "The exact expected value of one pull of the slot machine is 0.025 - i.e. a little more than 2 cents.  See?  Not every game in the Python Challenge Casino is rigged against the player!\n",
       "\n",
       "In order to get this answer, you'll need to implement the `estimate_average_slot_payout(n_runs)` function to simulate pulling the slot machine `n_runs` times.  It should return the payout averaged over those `n_runs`.\n",
       "\n",
       "Then, once the function is defined, in order to estimate the average slot payout, we need only call the function.\n",
       "\n",
       "Because of the high variance of the outcome (there are some very rare high payout results that significantly affect the average) you might need to run your function with a very high value of `n_runs` to get a stable answer close to the true expectation.  For instance, you might use a value for `n_runs` of 1000000.\n",
       "\n",
       "Here's an example for how the function could look:\n",
       "```python\n",
       "def estimate_average_slot_payout(n_runs):\n",
       "    # Play slot machine n_runs times, calculate payout of each\n",
       "    payouts = [play_slot_machine()-1 for i in range(n_runs)]\n",
       "    # Calculate the average value\n",
       "    avg_payout = sum(payouts) / n_runs\n",
       "    return avg_payout\n",
       "    \n",
       "estimate_average_slot_payout(10000000)\n",
       "\n",
       "```\n",
       "\n",
       "This should return an answer close to 0.025!\n",
       "            "
      ]
     },
     "metadata": {},
     "output_type": "display_data"
    }
   ],
   "source": [
    "# Check your answer (Run this code cell to receive credit!)\n",
    "q4.solution()"
   ]
  },
  {
   "cell_type": "markdown",
   "id": "a74566e1",
   "metadata": {
    "papermill": {
     "duration": 0.00541,
     "end_time": "2024-12-29T13:46:51.727152",
     "exception": false,
     "start_time": "2024-12-29T13:46:51.721742",
     "status": "completed"
    },
    "tags": []
   },
   "source": [
    "# Keep Going\n",
    "\n",
    "Many programmers report that dictionaries are their favorite data structure. You'll get to **[learn about them](https://www.kaggle.com/colinmorris/strings-and-dictionaries)** (as well as strings) in the next lesson."
   ]
  },
  {
   "cell_type": "markdown",
   "id": "b49cd140",
   "metadata": {
    "papermill": {
     "duration": 0.005253,
     "end_time": "2024-12-29T13:46:51.737784",
     "exception": false,
     "start_time": "2024-12-29T13:46:51.732531",
     "status": "completed"
    },
    "tags": []
   },
   "source": [
    "---\n",
    "\n",
    "\n",
    "\n",
    "\n",
    "*Have questions or comments? Visit the [course discussion forum](https://www.kaggle.com/learn/python/discussion) to chat with other learners.*"
   ]
  }
 ],
 "metadata": {
  "kaggle": {
   "accelerator": "none",
   "dataSources": [],
   "isGpuEnabled": false,
   "isInternetEnabled": false,
   "language": "python",
   "sourceType": "notebook"
  },
  "kernelspec": {
   "display_name": "Python 3",
   "language": "python",
   "name": "python3"
  },
  "language_info": {
   "codemirror_mode": {
    "name": "ipython",
    "version": 3
   },
   "file_extension": ".py",
   "mimetype": "text/x-python",
   "name": "python",
   "nbconvert_exporter": "python",
   "pygments_lexer": "ipython3",
   "version": "3.10.12"
  },
  "learntools_metadata": {
   "lesson_index": 4,
   "type": "exercise"
  },
  "papermill": {
   "default_parameters": {},
   "duration": 3.588734,
   "end_time": "2024-12-29T13:46:52.261645",
   "environment_variables": {},
   "exception": null,
   "input_path": "__notebook__.ipynb",
   "output_path": "__notebook__.ipynb",
   "parameters": {},
   "start_time": "2024-12-29T13:46:48.672911",
   "version": "2.6.0"
  }
 },
 "nbformat": 4,
 "nbformat_minor": 5
}
