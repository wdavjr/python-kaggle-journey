{
 "cells": [
  {
   "cell_type": "markdown",
   "id": "5371abbc",
   "metadata": {
    "papermill": {
     "duration": 0.005265,
     "end_time": "2024-12-29T15:13:51.624080",
     "exception": false,
     "start_time": "2024-12-29T15:13:51.618815",
     "status": "completed"
    },
    "tags": []
   },
   "source": [
    "**This notebook is an exercise in the [Python](https://www.kaggle.com/learn/python) course.  You can reference the tutorial at [this link](https://www.kaggle.com/colinmorris/loops-and-list-comprehensions).**\n",
    "\n",
    "---\n"
   ]
  },
  {
   "cell_type": "markdown",
   "id": "f0f80b90",
   "metadata": {
    "papermill": {
     "duration": 0.004239,
     "end_time": "2024-12-29T15:13:51.633109",
     "exception": false,
     "start_time": "2024-12-29T15:13:51.628870",
     "status": "completed"
    },
    "tags": []
   },
   "source": [
    "With all you've learned, you can start writing much more interesting programs. See if you can solve the problems below.\n",
    "\n",
    "As always, run the setup code below before working on the questions."
   ]
  },
  {
   "cell_type": "code",
   "execution_count": 1,
   "id": "e377ea8f",
   "metadata": {
    "execution": {
     "iopub.execute_input": "2024-12-29T15:13:51.643953Z",
     "iopub.status.busy": "2024-12-29T15:13:51.643589Z",
     "iopub.status.idle": "2024-12-29T15:13:52.073165Z",
     "shell.execute_reply": "2024-12-29T15:13:52.072032Z"
    },
    "papermill": {
     "duration": 0.437446,
     "end_time": "2024-12-29T15:13:52.075227",
     "exception": false,
     "start_time": "2024-12-29T15:13:51.637781",
     "status": "completed"
    },
    "tags": []
   },
   "outputs": [
    {
     "name": "stdout",
     "output_type": "stream",
     "text": [
      "Setup complete.\n"
     ]
    }
   ],
   "source": [
    "from learntools.core import binder; binder.bind(globals())\n",
    "from learntools.python.ex5 import *\n",
    "print('Setup complete.')"
   ]
  },
  {
   "cell_type": "markdown",
   "id": "9c5dc2cd",
   "metadata": {
    "papermill": {
     "duration": 0.004467,
     "end_time": "2024-12-29T15:13:52.084749",
     "exception": false,
     "start_time": "2024-12-29T15:13:52.080282",
     "status": "completed"
    },
    "tags": []
   },
   "source": [
    "# 1.\n",
    "\n",
    "Have you ever felt debugging involved a bit of luck? The following program has a bug. Try to identify the bug and fix it."
   ]
  },
  {
   "cell_type": "code",
   "execution_count": 2,
   "id": "a15fb9e1",
   "metadata": {
    "execution": {
     "iopub.execute_input": "2024-12-29T15:13:52.095272Z",
     "iopub.status.busy": "2024-12-29T15:13:52.094800Z",
     "iopub.status.idle": "2024-12-29T15:13:52.099743Z",
     "shell.execute_reply": "2024-12-29T15:13:52.098801Z"
    },
    "papermill": {
     "duration": 0.012039,
     "end_time": "2024-12-29T15:13:52.101447",
     "exception": false,
     "start_time": "2024-12-29T15:13:52.089408",
     "status": "completed"
    },
    "tags": []
   },
   "outputs": [],
   "source": [
    "def has_lucky_number(nums):\n",
    "    \"\"\"Return whether the given list of numbers is lucky. A lucky list contains\n",
    "    at least one number divisible by 7.\n",
    "    \"\"\"\n",
    "    for num in nums:\n",
    "        if num % 7 == 0:\n",
    "            return True\n",
    "        else:\n",
    "            return False\n",
    "        \n",
    "    "
   ]
  },
  {
   "cell_type": "markdown",
   "id": "d846a927",
   "metadata": {
    "papermill": {
     "duration": 0.004362,
     "end_time": "2024-12-29T15:13:52.110847",
     "exception": false,
     "start_time": "2024-12-29T15:13:52.106485",
     "status": "completed"
    },
    "tags": []
   },
   "source": [
    "Try to identify the bug and fix it in the cell below:"
   ]
  },
  {
   "cell_type": "code",
   "execution_count": 3,
   "id": "85488943",
   "metadata": {
    "execution": {
     "iopub.execute_input": "2024-12-29T15:13:52.121430Z",
     "iopub.status.busy": "2024-12-29T15:13:52.121053Z",
     "iopub.status.idle": "2024-12-29T15:13:52.130527Z",
     "shell.execute_reply": "2024-12-29T15:13:52.129431Z"
    },
    "papermill": {
     "duration": 0.016945,
     "end_time": "2024-12-29T15:13:52.132363",
     "exception": false,
     "start_time": "2024-12-29T15:13:52.115418",
     "status": "completed"
    },
    "tags": []
   },
   "outputs": [
    {
     "data": {
      "application/javascript": [
       "parent.postMessage({\"jupyterEvent\": \"custom.exercise_interaction\", \"data\": {\"outcomeType\": 1, \"valueTowardsCompletion\": 0.25, \"interactionType\": 1, \"questionType\": 2, \"questionId\": \"1_EarlyExitDebugging\", \"learnToolsVersion\": \"0.3.4\", \"failureMessage\": \"\", \"exceptionClass\": \"\", \"trace\": \"\"}}, \"*\")"
      ],
      "text/plain": [
       "<IPython.core.display.Javascript object>"
      ]
     },
     "metadata": {},
     "output_type": "display_data"
    },
    {
     "data": {
      "text/markdown": [
       "<span style=\"color:#33cc33\">Correct:</span> \n",
       "\n",
       "Remember that `return` causes a function to exit immediately. So our original implementation always ran for just one iteration. We can only return `False` if we've looked at every element of the list (and confirmed that none of them are lucky). Though we can return early if the answer is `True`:\n",
       "\n",
       "```python\n",
       "def has_lucky_number(nums):\n",
       "    for num in nums:\n",
       "        if num % 7 == 0:\n",
       "            return True\n",
       "    # We've exhausted the list without finding a lucky number\n",
       "    return False\n",
       "```\n",
       "\n",
       "Here's a one-line version using a list comprehension with Python's `any` function (you can read about what it does by calling `help(any)`):\n",
       "\n",
       "```python\n",
       "def has_lucky_number(nums):\n",
       "    return any([num % 7 == 0 for num in nums])\n",
       "```\n"
      ],
      "text/plain": [
       "Correct: \n",
       "\n",
       "Remember that `return` causes a function to exit immediately. So our original implementation always ran for just one iteration. We can only return `False` if we've looked at every element of the list (and confirmed that none of them are lucky). Though we can return early if the answer is `True`:\n",
       "\n",
       "```python\n",
       "def has_lucky_number(nums):\n",
       "    for num in nums:\n",
       "        if num % 7 == 0:\n",
       "            return True\n",
       "    # We've exhausted the list without finding a lucky number\n",
       "    return False\n",
       "```\n",
       "\n",
       "Here's a one-line version using a list comprehension with Python's `any` function (you can read about what it does by calling `help(any)`):\n",
       "\n",
       "```python\n",
       "def has_lucky_number(nums):\n",
       "    return any([num % 7 == 0 for num in nums])\n",
       "```"
      ]
     },
     "metadata": {},
     "output_type": "display_data"
    }
   ],
   "source": [
    "def has_lucky_number(nums):\n",
    "    \"\"\"Return whether the given list of numbers is lucky. A lucky list contains\n",
    "    at least one number divisible by 7.\n",
    "    \"\"\"\n",
    "    for num in nums:\n",
    "        if num % 7 == 0:\n",
    "            return True\n",
    "    return False\n",
    "\n",
    "# Check your answer\n",
    "q1.check()"
   ]
  },
  {
   "cell_type": "code",
   "execution_count": 4,
   "id": "38f662d7",
   "metadata": {
    "execution": {
     "iopub.execute_input": "2024-12-29T15:13:52.143420Z",
     "iopub.status.busy": "2024-12-29T15:13:52.143064Z",
     "iopub.status.idle": "2024-12-29T15:13:52.146853Z",
     "shell.execute_reply": "2024-12-29T15:13:52.145932Z"
    },
    "papermill": {
     "duration": 0.011092,
     "end_time": "2024-12-29T15:13:52.148468",
     "exception": false,
     "start_time": "2024-12-29T15:13:52.137376",
     "status": "completed"
    },
    "tags": []
   },
   "outputs": [],
   "source": [
    "# q1.hint()\n",
    "# q1.solution()"
   ]
  },
  {
   "cell_type": "markdown",
   "id": "31601d74",
   "metadata": {
    "papermill": {
     "duration": 0.004613,
     "end_time": "2024-12-29T15:13:52.158742",
     "exception": false,
     "start_time": "2024-12-29T15:13:52.154129",
     "status": "completed"
    },
    "tags": []
   },
   "source": [
    "# 2.\n",
    "Look at the Python expression below. What do you think we'll get when we run it? When you've made your prediction, uncomment the code and run the cell to see if you were right."
   ]
  },
  {
   "cell_type": "code",
   "execution_count": 5,
   "id": "0f473a35",
   "metadata": {
    "execution": {
     "iopub.execute_input": "2024-12-29T15:13:52.169955Z",
     "iopub.status.busy": "2024-12-29T15:13:52.169601Z",
     "iopub.status.idle": "2024-12-29T15:13:52.173398Z",
     "shell.execute_reply": "2024-12-29T15:13:52.172399Z"
    },
    "papermill": {
     "duration": 0.011564,
     "end_time": "2024-12-29T15:13:52.175289",
     "exception": false,
     "start_time": "2024-12-29T15:13:52.163725",
     "status": "completed"
    },
    "tags": []
   },
   "outputs": [],
   "source": [
    "# [1, 2, 3, 4] > 2"
   ]
  },
  {
   "cell_type": "markdown",
   "id": "6a69ed5e",
   "metadata": {
    "papermill": {
     "duration": 0.005186,
     "end_time": "2024-12-29T15:13:52.185559",
     "exception": false,
     "start_time": "2024-12-29T15:13:52.180373",
     "status": "completed"
    },
    "tags": []
   },
   "source": [
    "R and Python have some libraries (like numpy and pandas) compare each element of the list to 2 (i.e. do an 'element-wise' comparison) and give us a list of booleans like `[False, False, True, True]`. \n",
    "\n",
    "Implement a function that reproduces this behaviour, returning a list of booleans corresponding to whether the corresponding element is greater than n."
   ]
  },
  {
   "cell_type": "code",
   "execution_count": 6,
   "id": "46518104",
   "metadata": {
    "execution": {
     "iopub.execute_input": "2024-12-29T15:13:52.199859Z",
     "iopub.status.busy": "2024-12-29T15:13:52.199539Z",
     "iopub.status.idle": "2024-12-29T15:13:52.208135Z",
     "shell.execute_reply": "2024-12-29T15:13:52.207204Z"
    },
    "papermill": {
     "duration": 0.016462,
     "end_time": "2024-12-29T15:13:52.209653",
     "exception": false,
     "start_time": "2024-12-29T15:13:52.193191",
     "status": "completed"
    },
    "tags": []
   },
   "outputs": [
    {
     "data": {
      "application/javascript": [
       "parent.postMessage({\"jupyterEvent\": \"custom.exercise_interaction\", \"data\": {\"outcomeType\": 1, \"valueTowardsCompletion\": 0.25, \"interactionType\": 1, \"questionType\": 2, \"questionId\": \"2_ElementWiseComparison\", \"learnToolsVersion\": \"0.3.4\", \"failureMessage\": \"\", \"exceptionClass\": \"\", \"trace\": \"\"}}, \"*\")"
      ],
      "text/plain": [
       "<IPython.core.display.Javascript object>"
      ]
     },
     "metadata": {},
     "output_type": "display_data"
    },
    {
     "data": {
      "text/markdown": [
       "<span style=\"color:#33cc33\">Correct:</span> \n",
       "\n",
       "Here's one solution:\n",
       "```python\n",
       "def elementwise_greater_than(L, thresh):\n",
       "    res = []\n",
       "    for ele in L:\n",
       "        res.append(ele > thresh)\n",
       "    return res\n",
       "```\n",
       "\n",
       "And here's the list comprehension version:\n",
       "```python\n",
       "def elementwise_greater_than(L, thresh):\n",
       "    return [ele > thresh for ele in L]\n",
       "```\n"
      ],
      "text/plain": [
       "Correct: \n",
       "\n",
       "Here's one solution:\n",
       "```python\n",
       "def elementwise_greater_than(L, thresh):\n",
       "    res = []\n",
       "    for ele in L:\n",
       "        res.append(ele > thresh)\n",
       "    return res\n",
       "```\n",
       "\n",
       "And here's the list comprehension version:\n",
       "```python\n",
       "def elementwise_greater_than(L, thresh):\n",
       "    return [ele > thresh for ele in L]\n",
       "```"
      ]
     },
     "metadata": {},
     "output_type": "display_data"
    }
   ],
   "source": [
    "def elementwise_greater_than(L, thresh):\n",
    "    \"\"\"Return a list with the same length as L, where the value at index i is \n",
    "    True if L[i] is greater than thresh, and False otherwise.\n",
    "    \n",
    "    >>> elementwise_greater_than([1, 2, 3, 4], 2)\n",
    "    [False, False, True, True]\n",
    "    \"\"\"\n",
    "    numbers = []\n",
    "    nums = L\n",
    "    \n",
    "    for i in range(len(nums)):\n",
    "        if L[i] > thresh:\n",
    "            numbers.append(True)\n",
    "        else:\n",
    "            numbers.append(False)\n",
    "            \n",
    "    return numbers\n",
    "\n",
    "elementwise_greater_than([1, 2, 3, 4], 2)    \n",
    "\n",
    "# Check your answer\n",
    "q2.check()"
   ]
  },
  {
   "cell_type": "code",
   "execution_count": 7,
   "id": "337aeb8d",
   "metadata": {
    "execution": {
     "iopub.execute_input": "2024-12-29T15:13:52.223567Z",
     "iopub.status.busy": "2024-12-29T15:13:52.223166Z",
     "iopub.status.idle": "2024-12-29T15:13:52.226989Z",
     "shell.execute_reply": "2024-12-29T15:13:52.226073Z"
    },
    "papermill": {
     "duration": 0.013984,
     "end_time": "2024-12-29T15:13:52.228934",
     "exception": false,
     "start_time": "2024-12-29T15:13:52.214950",
     "status": "completed"
    },
    "tags": []
   },
   "outputs": [],
   "source": [
    "#q2.solution()"
   ]
  },
  {
   "cell_type": "markdown",
   "id": "929a7049",
   "metadata": {
    "papermill": {
     "duration": 0.004731,
     "end_time": "2024-12-29T15:13:52.239387",
     "exception": false,
     "start_time": "2024-12-29T15:13:52.234656",
     "status": "completed"
    },
    "tags": []
   },
   "source": [
    "# 3.\n",
    "\n",
    "Complete the body of the function below according to its docstring."
   ]
  },
  {
   "cell_type": "code",
   "execution_count": 8,
   "id": "04f27b90",
   "metadata": {
    "execution": {
     "iopub.execute_input": "2024-12-29T15:13:52.250858Z",
     "iopub.status.busy": "2024-12-29T15:13:52.250496Z",
     "iopub.status.idle": "2024-12-29T15:13:52.258897Z",
     "shell.execute_reply": "2024-12-29T15:13:52.257697Z"
    },
    "papermill": {
     "duration": 0.016234,
     "end_time": "2024-12-29T15:13:52.260697",
     "exception": false,
     "start_time": "2024-12-29T15:13:52.244463",
     "status": "completed"
    },
    "tags": []
   },
   "outputs": [
    {
     "data": {
      "application/javascript": [
       "parent.postMessage({\"jupyterEvent\": \"custom.exercise_interaction\", \"data\": {\"outcomeType\": 1, \"valueTowardsCompletion\": 0.25, \"interactionType\": 1, \"questionType\": 2, \"questionId\": \"3_BoringMenu\", \"learnToolsVersion\": \"0.3.4\", \"failureMessage\": \"\", \"exceptionClass\": \"\", \"trace\": \"\"}}, \"*\")"
      ],
      "text/plain": [
       "<IPython.core.display.Javascript object>"
      ]
     },
     "metadata": {},
     "output_type": "display_data"
    },
    {
     "data": {
      "text/markdown": [
       "<span style=\"color:#33cc33\">Correct:</span> \n",
       "\n",
       "\n",
       "\n",
       "```python\n",
       "def menu_is_boring(meals):\n",
       "    # Iterate over all indices of the list, except the last one\n",
       "    for i in range(len(meals)-1):\n",
       "        if meals[i] == meals[i+1]:\n",
       "            return True\n",
       "    return False\n",
       "```\n",
       "\n",
       "The key to our solution is the call to `range`. `range(len(meals))` would give us all the indices of `meals`. If we had used that range, the last iteration of the loop would be comparing the last element to the element after it, which is... `IndexError`! `range(len(meals)-1)` gives us all the indices except the index of the last element.\n",
       "\n",
       "But don't we need to check if `meals` is empty? Turns out that `range(0) == range(-1)` - they're both empty. So if `meals` has length 0 or 1, we just won't do any iterations of our for loop.\n"
      ],
      "text/plain": [
       "Correct: \n",
       "\n",
       "\n",
       "\n",
       "```python\n",
       "def menu_is_boring(meals):\n",
       "    # Iterate over all indices of the list, except the last one\n",
       "    for i in range(len(meals)-1):\n",
       "        if meals[i] == meals[i+1]:\n",
       "            return True\n",
       "    return False\n",
       "```\n",
       "\n",
       "The key to our solution is the call to `range`. `range(len(meals))` would give us all the indices of `meals`. If we had used that range, the last iteration of the loop would be comparing the last element to the element after it, which is... `IndexError`! `range(len(meals)-1)` gives us all the indices except the index of the last element.\n",
       "\n",
       "But don't we need to check if `meals` is empty? Turns out that `range(0) == range(-1)` - they're both empty. So if `meals` has length 0 or 1, we just won't do any iterations of our for loop."
      ]
     },
     "metadata": {},
     "output_type": "display_data"
    }
   ],
   "source": [
    "def menu_is_boring(meals):\n",
    "    \"\"\"Given a list of meals served over some period of time, return True if the\n",
    "    same meal has ever been served two days in a row, and False otherwise.\n",
    "    \"\"\"\n",
    "    for i in range(len(meals) - 1): \n",
    "        if meals[i] == meals[i + 1]: \n",
    "            return True \n",
    "    return False         \n",
    "\n",
    "# Check your answer\n",
    "q3.check()"
   ]
  },
  {
   "cell_type": "code",
   "execution_count": 9,
   "id": "11ab9f41",
   "metadata": {
    "execution": {
     "iopub.execute_input": "2024-12-29T15:13:52.272952Z",
     "iopub.status.busy": "2024-12-29T15:13:52.272626Z",
     "iopub.status.idle": "2024-12-29T15:13:52.276305Z",
     "shell.execute_reply": "2024-12-29T15:13:52.275317Z"
    },
    "papermill": {
     "duration": 0.011725,
     "end_time": "2024-12-29T15:13:52.278014",
     "exception": false,
     "start_time": "2024-12-29T15:13:52.266289",
     "status": "completed"
    },
    "tags": []
   },
   "outputs": [],
   "source": [
    "# q3.hint()\n",
    "#q3.solution()"
   ]
  },
  {
   "cell_type": "markdown",
   "id": "31877850",
   "metadata": {
    "papermill": {
     "duration": 0.005169,
     "end_time": "2024-12-29T15:13:52.288737",
     "exception": false,
     "start_time": "2024-12-29T15:13:52.283568",
     "status": "completed"
    },
    "tags": []
   },
   "source": [
    "# 4. <span title=\"A bit spicy\" style=\"color: darkgreen \">🌶️</span>\n",
    "\n",
    "Next to the Blackjack table, the Python Challenge Casino has a slot machine. You can get a result from the slot machine by calling `play_slot_machine()`. The number it returns is your winnings in dollars. Usually it returns 0.  But sometimes you'll get lucky and get a big payday. Try running it below:"
   ]
  },
  {
   "cell_type": "code",
   "execution_count": 10,
   "id": "cee755b7",
   "metadata": {
    "execution": {
     "iopub.execute_input": "2024-12-29T15:13:52.300796Z",
     "iopub.status.busy": "2024-12-29T15:13:52.300348Z",
     "iopub.status.idle": "2024-12-29T15:13:52.306251Z",
     "shell.execute_reply": "2024-12-29T15:13:52.305080Z"
    },
    "papermill": {
     "duration": 0.013712,
     "end_time": "2024-12-29T15:13:52.307824",
     "exception": false,
     "start_time": "2024-12-29T15:13:52.294112",
     "status": "completed"
    },
    "tags": []
   },
   "outputs": [
    {
     "data": {
      "text/plain": [
       "0"
      ]
     },
     "execution_count": 10,
     "metadata": {},
     "output_type": "execute_result"
    }
   ],
   "source": [
    "play_slot_machine()"
   ]
  },
  {
   "cell_type": "markdown",
   "id": "956ec279",
   "metadata": {
    "papermill": {
     "duration": 0.005065,
     "end_time": "2024-12-29T15:13:52.318740",
     "exception": false,
     "start_time": "2024-12-29T15:13:52.313675",
     "status": "completed"
    },
    "tags": []
   },
   "source": [
    "By the way, did we mention that each play costs $1? Don't worry, we'll send you the bill later.\n",
    "\n",
    "On average, how much money can you expect to gain (or lose) every time you play the machine?  The casino keeps it a secret, but you can estimate the average value of each pull using a technique called the **Monte Carlo method**. To estimate the average outcome, we simulate the scenario many times, and return the average result.\n",
    "\n",
    "Complete the following function to calculate the average value per play of the slot machine."
   ]
  },
  {
   "cell_type": "code",
   "execution_count": 11,
   "id": "0827d1a8",
   "metadata": {
    "execution": {
     "iopub.execute_input": "2024-12-29T15:13:52.331126Z",
     "iopub.status.busy": "2024-12-29T15:13:52.330746Z",
     "iopub.status.idle": "2024-12-29T15:13:55.439417Z",
     "shell.execute_reply": "2024-12-29T15:13:55.438229Z"
    },
    "papermill": {
     "duration": 3.116576,
     "end_time": "2024-12-29T15:13:55.441104",
     "exception": false,
     "start_time": "2024-12-29T15:13:52.324528",
     "status": "completed"
    },
    "tags": []
   },
   "outputs": [
    {
     "data": {
      "text/plain": [
       "0.02666265"
      ]
     },
     "execution_count": 11,
     "metadata": {},
     "output_type": "execute_result"
    }
   ],
   "source": [
    "def estimate_average_slot_payout(n_runs):\n",
    "    \"\"\"Run the slot machine n_runs times and return the average net profit per run.\n",
    "    Example calls (note that return value is nondeterministic!):\n",
    "    >>> estimate_average_slot_payout(1)\n",
    "    -1\n",
    "    >>> estimate_average_slot_payout(1)\n",
    "    0.5\n",
    "    \"\"\"\n",
    "    # Play slot machine n_runs times, calculate payout of each\n",
    "    payouts = [play_slot_machine()-1 for i in range(n_runs)]\n",
    "    # Calculate the average value\n",
    "    avg_payout = sum(payouts) / n_runs\n",
    "    return avg_payout\n",
    "\n",
    "estimate_average_slot_payout(10000000)"
   ]
  },
  {
   "cell_type": "markdown",
   "id": "4ef537a4",
   "metadata": {
    "papermill": {
     "duration": 0.005353,
     "end_time": "2024-12-29T15:13:55.452296",
     "exception": false,
     "start_time": "2024-12-29T15:13:55.446943",
     "status": "completed"
    },
    "tags": []
   },
   "source": [
    "When you think you know the expected value per spin, run the code cell below to view the solution and get credit for answering the question."
   ]
  },
  {
   "cell_type": "code",
   "execution_count": 12,
   "id": "7fcd86b0",
   "metadata": {
    "execution": {
     "iopub.execute_input": "2024-12-29T15:13:55.464938Z",
     "iopub.status.busy": "2024-12-29T15:13:55.464548Z",
     "iopub.status.idle": "2024-12-29T15:13:55.472090Z",
     "shell.execute_reply": "2024-12-29T15:13:55.471043Z"
    },
    "papermill": {
     "duration": 0.015678,
     "end_time": "2024-12-29T15:13:55.473772",
     "exception": false,
     "start_time": "2024-12-29T15:13:55.458094",
     "status": "completed"
    },
    "tags": []
   },
   "outputs": [
    {
     "data": {
      "application/javascript": [
       "parent.postMessage({\"jupyterEvent\": \"custom.exercise_interaction\", \"data\": {\"interactionType\": 3, \"questionType\": 4, \"questionId\": \"4_ExpectedSlotsPayout\", \"learnToolsVersion\": \"0.3.4\", \"valueTowardsCompletion\": 0.0, \"failureMessage\": \"\", \"exceptionClass\": \"\", \"trace\": \"\", \"outcomeType\": 4}}, \"*\")"
      ],
      "text/plain": [
       "<IPython.core.display.Javascript object>"
      ]
     },
     "metadata": {},
     "output_type": "display_data"
    },
    {
     "data": {
      "text/markdown": [
       "<span style=\"color:#33cc99\">Solution:</span> \n",
       "    \n",
       "The exact expected value of one pull of the slot machine is 0.025 - i.e. a little more than 2 cents.  See?  Not every game in the Python Challenge Casino is rigged against the player!\n",
       "\n",
       "In order to get this answer, you'll need to implement the `estimate_average_slot_payout(n_runs)` function to simulate pulling the slot machine `n_runs` times.  It should return the payout averaged over those `n_runs`.\n",
       "\n",
       "Then, once the function is defined, in order to estimate the average slot payout, we need only call the function.\n",
       "\n",
       "Because of the high variance of the outcome (there are some very rare high payout results that significantly affect the average) you might need to run your function with a very high value of `n_runs` to get a stable answer close to the true expectation.  For instance, you might use a value for `n_runs` of 1000000.\n",
       "\n",
       "Here's an example for how the function could look:\n",
       "```python\n",
       "def estimate_average_slot_payout(n_runs):\n",
       "    # Play slot machine n_runs times, calculate payout of each\n",
       "    payouts = [play_slot_machine()-1 for i in range(n_runs)]\n",
       "    # Calculate the average value\n",
       "    avg_payout = sum(payouts) / n_runs\n",
       "    return avg_payout\n",
       "    \n",
       "estimate_average_slot_payout(10000000)\n",
       "\n",
       "```\n",
       "\n",
       "This should return an answer close to 0.025!\n",
       "            \n"
      ],
      "text/plain": [
       "Solution: \n",
       "    \n",
       "The exact expected value of one pull of the slot machine is 0.025 - i.e. a little more than 2 cents.  See?  Not every game in the Python Challenge Casino is rigged against the player!\n",
       "\n",
       "In order to get this answer, you'll need to implement the `estimate_average_slot_payout(n_runs)` function to simulate pulling the slot machine `n_runs` times.  It should return the payout averaged over those `n_runs`.\n",
       "\n",
       "Then, once the function is defined, in order to estimate the average slot payout, we need only call the function.\n",
       "\n",
       "Because of the high variance of the outcome (there are some very rare high payout results that significantly affect the average) you might need to run your function with a very high value of `n_runs` to get a stable answer close to the true expectation.  For instance, you might use a value for `n_runs` of 1000000.\n",
       "\n",
       "Here's an example for how the function could look:\n",
       "```python\n",
       "def estimate_average_slot_payout(n_runs):\n",
       "    # Play slot machine n_runs times, calculate payout of each\n",
       "    payouts = [play_slot_machine()-1 for i in range(n_runs)]\n",
       "    # Calculate the average value\n",
       "    avg_payout = sum(payouts) / n_runs\n",
       "    return avg_payout\n",
       "    \n",
       "estimate_average_slot_payout(10000000)\n",
       "\n",
       "```\n",
       "\n",
       "This should return an answer close to 0.025!\n",
       "            "
      ]
     },
     "metadata": {},
     "output_type": "display_data"
    }
   ],
   "source": [
    "# Check your answer (Run this code cell to receive credit!)\n",
    "q4.solution()"
   ]
  },
  {
   "cell_type": "markdown",
   "id": "714abdd3",
   "metadata": {
    "papermill": {
     "duration": 0.005403,
     "end_time": "2024-12-29T15:13:55.485033",
     "exception": false,
     "start_time": "2024-12-29T15:13:55.479630",
     "status": "completed"
    },
    "tags": []
   },
   "source": [
    "# Keep Going\n",
    "\n",
    "Many programmers report that dictionaries are their favorite data structure. You'll get to **[learn about them](https://www.kaggle.com/colinmorris/strings-and-dictionaries)** (as well as strings) in the next lesson."
   ]
  },
  {
   "cell_type": "markdown",
   "id": "f18aa537",
   "metadata": {
    "papermill": {
     "duration": 0.005362,
     "end_time": "2024-12-29T15:13:55.496185",
     "exception": false,
     "start_time": "2024-12-29T15:13:55.490823",
     "status": "completed"
    },
    "tags": []
   },
   "source": [
    "---\n",
    "\n",
    "\n",
    "\n",
    "\n",
    "*Have questions or comments? Visit the [course discussion forum](https://www.kaggle.com/learn/python/discussion) to chat with other learners.*"
   ]
  }
 ],
 "metadata": {
  "kaggle": {
   "accelerator": "none",
   "dataSources": [],
   "isGpuEnabled": false,
   "isInternetEnabled": false,
   "language": "python",
   "sourceType": "notebook"
  },
  "kernelspec": {
   "display_name": "Python 3",
   "language": "python",
   "name": "python3"
  },
  "language_info": {
   "codemirror_mode": {
    "name": "ipython",
    "version": 3
   },
   "file_extension": ".py",
   "mimetype": "text/x-python",
   "name": "python",
   "nbconvert_exporter": "python",
   "pygments_lexer": "ipython3",
   "version": "3.10.12"
  },
  "learntools_metadata": {
   "lesson_index": 4,
   "type": "exercise"
  },
  "papermill": {
   "default_parameters": {},
   "duration": 6.614284,
   "end_time": "2024-12-29T15:13:56.021869",
   "environment_variables": {},
   "exception": null,
   "input_path": "__notebook__.ipynb",
   "output_path": "__notebook__.ipynb",
   "parameters": {},
   "start_time": "2024-12-29T15:13:49.407585",
   "version": "2.6.0"
  }
 },
 "nbformat": 4,
 "nbformat_minor": 5
}
